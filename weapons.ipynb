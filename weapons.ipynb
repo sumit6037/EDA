{
 "cells": [
  {
   "cell_type": "code",
   "execution_count": 39,
   "metadata": {},
   "outputs": [],
   "source": [
    "import pandas as pd\n",
    "import numpy as num\n",
    "import matplotlib as mat\n",
    "import seaborn as sns\n",
    "import matplotlib.pyplot as plt "
   ]
  },
  {
   "cell_type": "code",
   "execution_count": 40,
   "metadata": {},
   "outputs": [
    {
     "data": {
      "text/html": [
       "<div>\n",
       "<style scoped>\n",
       "    .dataframe tbody tr th:only-of-type {\n",
       "        vertical-align: middle;\n",
       "    }\n",
       "\n",
       "    .dataframe tbody tr th {\n",
       "        vertical-align: top;\n",
       "    }\n",
       "\n",
       "    .dataframe thead th {\n",
       "        text-align: right;\n",
       "    }\n",
       "</style>\n",
       "<table border=\"1\" class=\"dataframe\">\n",
       "  <thead>\n",
       "    <tr style=\"text-align: right;\">\n",
       "      <th></th>\n",
       "      <th>Name</th>\n",
       "      <th>Damage</th>\n",
       "      <th>Weight</th>\n",
       "      <th>Gold</th>\n",
       "      <th>Upgrade</th>\n",
       "      <th>Perk</th>\n",
       "      <th>Type</th>\n",
       "      <th>Category</th>\n",
       "      <th>Speed</th>\n",
       "    </tr>\n",
       "  </thead>\n",
       "  <tbody>\n",
       "    <tr>\n",
       "      <th>0</th>\n",
       "      <td>Ancient Nord Battle Axe</td>\n",
       "      <td>18</td>\n",
       "      <td>22.0</td>\n",
       "      <td>28</td>\n",
       "      <td>Steel Ingot</td>\n",
       "      <td>Steel</td>\n",
       "      <td>Battleaxe</td>\n",
       "      <td>Two-Handed</td>\n",
       "      <td>NaN</td>\n",
       "    </tr>\n",
       "    <tr>\n",
       "      <th>1</th>\n",
       "      <td>Daedric Battleaxe</td>\n",
       "      <td>25</td>\n",
       "      <td>27.0</td>\n",
       "      <td>2750</td>\n",
       "      <td>Ebony Ingot</td>\n",
       "      <td>Daedric</td>\n",
       "      <td>Battleaxe</td>\n",
       "      <td>Two-Handed</td>\n",
       "      <td>NaN</td>\n",
       "    </tr>\n",
       "    <tr>\n",
       "      <th>2</th>\n",
       "      <td>Dragonbone Battleaxe</td>\n",
       "      <td>26</td>\n",
       "      <td>30.0</td>\n",
       "      <td>3000</td>\n",
       "      <td>Dragon Bone</td>\n",
       "      <td>Dragon</td>\n",
       "      <td>Battleaxe</td>\n",
       "      <td>Two-Handed</td>\n",
       "      <td>NaN</td>\n",
       "    </tr>\n",
       "    <tr>\n",
       "      <th>3</th>\n",
       "      <td>Drainblood Battleaxe</td>\n",
       "      <td>21</td>\n",
       "      <td>5.0</td>\n",
       "      <td>266</td>\n",
       "      <td>NaN</td>\n",
       "      <td>-</td>\n",
       "      <td>Battleaxe</td>\n",
       "      <td>Two-Handed</td>\n",
       "      <td>NaN</td>\n",
       "    </tr>\n",
       "    <tr>\n",
       "      <th>4</th>\n",
       "      <td>Dwarven Battleaxe</td>\n",
       "      <td>20</td>\n",
       "      <td>23.0</td>\n",
       "      <td>300</td>\n",
       "      <td>Dwarven Metal Ingot</td>\n",
       "      <td>Dwarven</td>\n",
       "      <td>Battleaxe</td>\n",
       "      <td>Two-Handed</td>\n",
       "      <td>NaN</td>\n",
       "    </tr>\n",
       "    <tr>\n",
       "      <th>...</th>\n",
       "      <td>...</td>\n",
       "      <td>...</td>\n",
       "      <td>...</td>\n",
       "      <td>...</td>\n",
       "      <td>...</td>\n",
       "      <td>...</td>\n",
       "      <td>...</td>\n",
       "      <td>...</td>\n",
       "      <td>...</td>\n",
       "    </tr>\n",
       "    <tr>\n",
       "      <th>288</th>\n",
       "      <td>Exploding Steel Bolt of Ice</td>\n",
       "      <td>10</td>\n",
       "      <td>0.0</td>\n",
       "      <td>5</td>\n",
       "      <td>NaN</td>\n",
       "      <td>NaN</td>\n",
       "      <td>Bolt</td>\n",
       "      <td>Archery</td>\n",
       "      <td>NaN</td>\n",
       "    </tr>\n",
       "    <tr>\n",
       "      <th>289</th>\n",
       "      <td>Exploding Steel Bolt of Shock</td>\n",
       "      <td>10</td>\n",
       "      <td>0.0</td>\n",
       "      <td>5</td>\n",
       "      <td>NaN</td>\n",
       "      <td>NaN</td>\n",
       "      <td>Bolt</td>\n",
       "      <td>Archery</td>\n",
       "      <td>NaN</td>\n",
       "    </tr>\n",
       "    <tr>\n",
       "      <th>290</th>\n",
       "      <td>Exploding Dwarven Bolt of Fire</td>\n",
       "      <td>14</td>\n",
       "      <td>0.0</td>\n",
       "      <td>15</td>\n",
       "      <td>NaN</td>\n",
       "      <td>NaN</td>\n",
       "      <td>Bolt</td>\n",
       "      <td>Archery</td>\n",
       "      <td>NaN</td>\n",
       "    </tr>\n",
       "    <tr>\n",
       "      <th>291</th>\n",
       "      <td>Exploding Dwarven Bolt of Ice</td>\n",
       "      <td>14</td>\n",
       "      <td>0.0</td>\n",
       "      <td>15</td>\n",
       "      <td>NaN</td>\n",
       "      <td>NaN</td>\n",
       "      <td>Bolt</td>\n",
       "      <td>Archery</td>\n",
       "      <td>NaN</td>\n",
       "    </tr>\n",
       "    <tr>\n",
       "      <th>292</th>\n",
       "      <td>Exploding Dwarven Bolt of Shock</td>\n",
       "      <td>14</td>\n",
       "      <td>0.0</td>\n",
       "      <td>15</td>\n",
       "      <td>NaN</td>\n",
       "      <td>NaN</td>\n",
       "      <td>Bolt</td>\n",
       "      <td>Archery</td>\n",
       "      <td>NaN</td>\n",
       "    </tr>\n",
       "  </tbody>\n",
       "</table>\n",
       "<p>293 rows × 9 columns</p>\n",
       "</div>"
      ],
      "text/plain": [
       "                                Name  Damage  Weight  Gold  \\\n",
       "0            Ancient Nord Battle Axe      18    22.0    28   \n",
       "1                  Daedric Battleaxe      25    27.0  2750   \n",
       "2              Dragonbone Battleaxe       26    30.0  3000   \n",
       "3               Drainblood Battleaxe      21     5.0   266   \n",
       "4                  Dwarven Battleaxe      20    23.0   300   \n",
       "..                               ...     ...     ...   ...   \n",
       "288      Exploding Steel Bolt of Ice      10     0.0     5   \n",
       "289    Exploding Steel Bolt of Shock      10     0.0     5   \n",
       "290   Exploding Dwarven Bolt of Fire      14     0.0    15   \n",
       "291    Exploding Dwarven Bolt of Ice      14     0.0    15   \n",
       "292  Exploding Dwarven Bolt of Shock      14     0.0    15   \n",
       "\n",
       "                 Upgrade     Perk       Type    Category  Speed  \n",
       "0            Steel Ingot    Steel  Battleaxe  Two-Handed    NaN  \n",
       "1            Ebony Ingot  Daedric  Battleaxe  Two-Handed    NaN  \n",
       "2            Dragon Bone   Dragon  Battleaxe  Two-Handed    NaN  \n",
       "3                    NaN        -  Battleaxe  Two-Handed    NaN  \n",
       "4    Dwarven Metal Ingot  Dwarven  Battleaxe  Two-Handed    NaN  \n",
       "..                   ...      ...        ...         ...    ...  \n",
       "288                  NaN      NaN       Bolt     Archery    NaN  \n",
       "289                  NaN      NaN       Bolt     Archery    NaN  \n",
       "290                  NaN      NaN       Bolt     Archery    NaN  \n",
       "291                  NaN      NaN       Bolt     Archery    NaN  \n",
       "292                  NaN      NaN       Bolt     Archery    NaN  \n",
       "\n",
       "[293 rows x 9 columns]"
      ]
     },
     "execution_count": 40,
     "metadata": {},
     "output_type": "execute_result"
    }
   ],
   "source": [
    "df= pd.read_csv(\"C:/Users/PC/Desktop/Weapons.csv\")\n",
    "df"
   ]
  },
  {
   "cell_type": "code",
   "execution_count": 41,
   "metadata": {},
   "outputs": [
    {
     "data": {
      "text/html": [
       "<div>\n",
       "<style scoped>\n",
       "    .dataframe tbody tr th:only-of-type {\n",
       "        vertical-align: middle;\n",
       "    }\n",
       "\n",
       "    .dataframe tbody tr th {\n",
       "        vertical-align: top;\n",
       "    }\n",
       "\n",
       "    .dataframe thead th {\n",
       "        text-align: right;\n",
       "    }\n",
       "</style>\n",
       "<table border=\"1\" class=\"dataframe\">\n",
       "  <thead>\n",
       "    <tr style=\"text-align: right;\">\n",
       "      <th></th>\n",
       "      <th>Name</th>\n",
       "      <th>Damage</th>\n",
       "      <th>Weight</th>\n",
       "      <th>Gold</th>\n",
       "      <th>Upgrade</th>\n",
       "      <th>Perk</th>\n",
       "      <th>Type</th>\n",
       "      <th>Category</th>\n",
       "      <th>Speed</th>\n",
       "    </tr>\n",
       "  </thead>\n",
       "  <tbody>\n",
       "    <tr>\n",
       "      <th>0</th>\n",
       "      <td>Ancient Nord Battle Axe</td>\n",
       "      <td>18</td>\n",
       "      <td>22.0</td>\n",
       "      <td>28</td>\n",
       "      <td>Steel Ingot</td>\n",
       "      <td>Steel</td>\n",
       "      <td>Battleaxe</td>\n",
       "      <td>Two-Handed</td>\n",
       "      <td>NaN</td>\n",
       "    </tr>\n",
       "    <tr>\n",
       "      <th>1</th>\n",
       "      <td>Daedric Battleaxe</td>\n",
       "      <td>25</td>\n",
       "      <td>27.0</td>\n",
       "      <td>2750</td>\n",
       "      <td>Ebony Ingot</td>\n",
       "      <td>Daedric</td>\n",
       "      <td>Battleaxe</td>\n",
       "      <td>Two-Handed</td>\n",
       "      <td>NaN</td>\n",
       "    </tr>\n",
       "    <tr>\n",
       "      <th>2</th>\n",
       "      <td>Dragonbone Battleaxe</td>\n",
       "      <td>26</td>\n",
       "      <td>30.0</td>\n",
       "      <td>3000</td>\n",
       "      <td>Dragon Bone</td>\n",
       "      <td>Dragon</td>\n",
       "      <td>Battleaxe</td>\n",
       "      <td>Two-Handed</td>\n",
       "      <td>NaN</td>\n",
       "    </tr>\n",
       "    <tr>\n",
       "      <th>3</th>\n",
       "      <td>Drainblood Battleaxe</td>\n",
       "      <td>21</td>\n",
       "      <td>5.0</td>\n",
       "      <td>266</td>\n",
       "      <td>NaN</td>\n",
       "      <td>-</td>\n",
       "      <td>Battleaxe</td>\n",
       "      <td>Two-Handed</td>\n",
       "      <td>NaN</td>\n",
       "    </tr>\n",
       "    <tr>\n",
       "      <th>4</th>\n",
       "      <td>Dwarven Battleaxe</td>\n",
       "      <td>20</td>\n",
       "      <td>23.0</td>\n",
       "      <td>300</td>\n",
       "      <td>Dwarven Metal Ingot</td>\n",
       "      <td>Dwarven</td>\n",
       "      <td>Battleaxe</td>\n",
       "      <td>Two-Handed</td>\n",
       "      <td>NaN</td>\n",
       "    </tr>\n",
       "  </tbody>\n",
       "</table>\n",
       "</div>"
      ],
      "text/plain": [
       "                      Name  Damage  Weight  Gold              Upgrade  \\\n",
       "0  Ancient Nord Battle Axe      18    22.0    28          Steel Ingot   \n",
       "1        Daedric Battleaxe      25    27.0  2750          Ebony Ingot   \n",
       "2    Dragonbone Battleaxe       26    30.0  3000          Dragon Bone   \n",
       "3     Drainblood Battleaxe      21     5.0   266                  NaN   \n",
       "4        Dwarven Battleaxe      20    23.0   300  Dwarven Metal Ingot   \n",
       "\n",
       "      Perk       Type    Category  Speed  \n",
       "0    Steel  Battleaxe  Two-Handed    NaN  \n",
       "1  Daedric  Battleaxe  Two-Handed    NaN  \n",
       "2   Dragon  Battleaxe  Two-Handed    NaN  \n",
       "3        -  Battleaxe  Two-Handed    NaN  \n",
       "4  Dwarven  Battleaxe  Two-Handed    NaN  "
      ]
     },
     "execution_count": 41,
     "metadata": {},
     "output_type": "execute_result"
    }
   ],
   "source": [
    "df.head()"
   ]
  },
  {
   "cell_type": "code",
   "execution_count": 42,
   "metadata": {},
   "outputs": [
    {
     "data": {
      "text/html": [
       "<div>\n",
       "<style scoped>\n",
       "    .dataframe tbody tr th:only-of-type {\n",
       "        vertical-align: middle;\n",
       "    }\n",
       "\n",
       "    .dataframe tbody tr th {\n",
       "        vertical-align: top;\n",
       "    }\n",
       "\n",
       "    .dataframe thead th {\n",
       "        text-align: right;\n",
       "    }\n",
       "</style>\n",
       "<table border=\"1\" class=\"dataframe\">\n",
       "  <thead>\n",
       "    <tr style=\"text-align: right;\">\n",
       "      <th></th>\n",
       "      <th>Name</th>\n",
       "      <th>Damage</th>\n",
       "      <th>Weight</th>\n",
       "      <th>Gold</th>\n",
       "      <th>Upgrade</th>\n",
       "      <th>Perk</th>\n",
       "      <th>Type</th>\n",
       "      <th>Category</th>\n",
       "      <th>Speed</th>\n",
       "    </tr>\n",
       "  </thead>\n",
       "  <tbody>\n",
       "    <tr>\n",
       "      <th>288</th>\n",
       "      <td>Exploding Steel Bolt of Ice</td>\n",
       "      <td>10</td>\n",
       "      <td>0.0</td>\n",
       "      <td>5</td>\n",
       "      <td>NaN</td>\n",
       "      <td>NaN</td>\n",
       "      <td>Bolt</td>\n",
       "      <td>Archery</td>\n",
       "      <td>NaN</td>\n",
       "    </tr>\n",
       "    <tr>\n",
       "      <th>289</th>\n",
       "      <td>Exploding Steel Bolt of Shock</td>\n",
       "      <td>10</td>\n",
       "      <td>0.0</td>\n",
       "      <td>5</td>\n",
       "      <td>NaN</td>\n",
       "      <td>NaN</td>\n",
       "      <td>Bolt</td>\n",
       "      <td>Archery</td>\n",
       "      <td>NaN</td>\n",
       "    </tr>\n",
       "    <tr>\n",
       "      <th>290</th>\n",
       "      <td>Exploding Dwarven Bolt of Fire</td>\n",
       "      <td>14</td>\n",
       "      <td>0.0</td>\n",
       "      <td>15</td>\n",
       "      <td>NaN</td>\n",
       "      <td>NaN</td>\n",
       "      <td>Bolt</td>\n",
       "      <td>Archery</td>\n",
       "      <td>NaN</td>\n",
       "    </tr>\n",
       "    <tr>\n",
       "      <th>291</th>\n",
       "      <td>Exploding Dwarven Bolt of Ice</td>\n",
       "      <td>14</td>\n",
       "      <td>0.0</td>\n",
       "      <td>15</td>\n",
       "      <td>NaN</td>\n",
       "      <td>NaN</td>\n",
       "      <td>Bolt</td>\n",
       "      <td>Archery</td>\n",
       "      <td>NaN</td>\n",
       "    </tr>\n",
       "    <tr>\n",
       "      <th>292</th>\n",
       "      <td>Exploding Dwarven Bolt of Shock</td>\n",
       "      <td>14</td>\n",
       "      <td>0.0</td>\n",
       "      <td>15</td>\n",
       "      <td>NaN</td>\n",
       "      <td>NaN</td>\n",
       "      <td>Bolt</td>\n",
       "      <td>Archery</td>\n",
       "      <td>NaN</td>\n",
       "    </tr>\n",
       "  </tbody>\n",
       "</table>\n",
       "</div>"
      ],
      "text/plain": [
       "                                Name  Damage  Weight  Gold Upgrade Perk  Type  \\\n",
       "288      Exploding Steel Bolt of Ice      10     0.0     5     NaN  NaN  Bolt   \n",
       "289    Exploding Steel Bolt of Shock      10     0.0     5     NaN  NaN  Bolt   \n",
       "290   Exploding Dwarven Bolt of Fire      14     0.0    15     NaN  NaN  Bolt   \n",
       "291    Exploding Dwarven Bolt of Ice      14     0.0    15     NaN  NaN  Bolt   \n",
       "292  Exploding Dwarven Bolt of Shock      14     0.0    15     NaN  NaN  Bolt   \n",
       "\n",
       "    Category  Speed  \n",
       "288  Archery    NaN  \n",
       "289  Archery    NaN  \n",
       "290  Archery    NaN  \n",
       "291  Archery    NaN  \n",
       "292  Archery    NaN  "
      ]
     },
     "execution_count": 42,
     "metadata": {},
     "output_type": "execute_result"
    }
   ],
   "source": [
    "df.tail()"
   ]
  },
  {
   "cell_type": "code",
   "execution_count": 43,
   "metadata": {},
   "outputs": [
    {
     "data": {
      "text/plain": [
       "Index(['Name', 'Damage', 'Weight', 'Gold', 'Upgrade', 'Perk', 'Type',\n",
       "       'Category', 'Speed'],\n",
       "      dtype='object')"
      ]
     },
     "execution_count": 43,
     "metadata": {},
     "output_type": "execute_result"
    }
   ],
   "source": [
    "df.columns"
   ]
  },
  {
   "cell_type": "code",
   "execution_count": 44,
   "metadata": {},
   "outputs": [
    {
     "data": {
      "text/plain": [
       "Name          0\n",
       "Damage        0\n",
       "Weight        0\n",
       "Gold          0\n",
       "Upgrade      61\n",
       "Perk         42\n",
       "Type          0\n",
       "Category      0\n",
       "Speed       254\n",
       "dtype: int64"
      ]
     },
     "execution_count": 44,
     "metadata": {},
     "output_type": "execute_result"
    }
   ],
   "source": [
    "df.isnull().sum()"
   ]
  },
  {
   "cell_type": "code",
   "execution_count": 45,
   "metadata": {},
   "outputs": [
    {
     "data": {
      "text/plain": [
       "(293, 9)"
      ]
     },
     "execution_count": 45,
     "metadata": {},
     "output_type": "execute_result"
    }
   ],
   "source": [
    "df.shape"
   ]
  },
  {
   "cell_type": "code",
   "execution_count": 46,
   "metadata": {},
   "outputs": [],
   "source": [
    "df[\"Upgrade\"]=df[\"Upgrade\"].fillna(\"N/A\")\n"
   ]
  },
  {
   "cell_type": "code",
   "execution_count": 47,
   "metadata": {},
   "outputs": [],
   "source": [
    "df[\"Perk\"]=df[\"Perk\"].fillna(\"None\")"
   ]
  },
  {
   "cell_type": "code",
   "execution_count": 48,
   "metadata": {},
   "outputs": [],
   "source": [
    "df[\"Speed\"]=df[\"Speed\"].fillna(0)"
   ]
  },
  {
   "cell_type": "code",
   "execution_count": 57,
   "metadata": {},
   "outputs": [],
   "source": [
    "df[\"Perk\"]=df[\"Perk\"].replace('-',\"None\")"
   ]
  },
  {
   "cell_type": "code",
   "execution_count": 58,
   "metadata": {},
   "outputs": [
    {
     "data": {
      "text/plain": [
       "Name        0\n",
       "Damage      0\n",
       "Weight      0\n",
       "Gold        0\n",
       "Upgrade     0\n",
       "Perk        0\n",
       "Type        0\n",
       "Category    0\n",
       "Speed       0\n",
       "dtype: int64"
      ]
     },
     "execution_count": 58,
     "metadata": {},
     "output_type": "execute_result"
    }
   ],
   "source": [
    "df.isnull().isnull().sum()"
   ]
  },
  {
   "cell_type": "code",
   "execution_count": 59,
   "metadata": {},
   "outputs": [
    {
     "name": "stdout",
     "output_type": "stream",
     "text": [
      "<class 'pandas.core.frame.DataFrame'>\n",
      "RangeIndex: 293 entries, 0 to 292\n",
      "Data columns (total 9 columns):\n",
      " #   Column    Non-Null Count  Dtype  \n",
      "---  ------    --------------  -----  \n",
      " 0   Name      293 non-null    object \n",
      " 1   Damage    293 non-null    int64  \n",
      " 2   Weight    293 non-null    float64\n",
      " 3   Gold      293 non-null    int64  \n",
      " 4   Upgrade   293 non-null    object \n",
      " 5   Perk      293 non-null    object \n",
      " 6   Type      293 non-null    object \n",
      " 7   Category  293 non-null    object \n",
      " 8   Speed     293 non-null    float64\n",
      "dtypes: float64(2), int64(2), object(5)\n",
      "memory usage: 20.7+ KB\n"
     ]
    }
   ],
   "source": [
    "df.info()"
   ]
  },
  {
   "cell_type": "markdown",
   "metadata": {},
   "source": [
    "# Univariate Analysis"
   ]
  },
  {
   "cell_type": "markdown",
   "metadata": {},
   "source": [
    "# Categorical datatypes"
   ]
  },
  {
   "cell_type": "code",
   "execution_count": 60,
   "metadata": {},
   "outputs": [],
   "source": [
    "def info_of_cat(col):\n",
    "    print(\"Unique values in \",col,\" are: \",df[col].unique())\n",
    "    print(\"Mode of the \",col,\" is: \",df[col].mode()[0])\n",
    "    print(\"Missing values of the \",col,\" are: \",df[col].isnull().sum())\n",
    "    if df[col].isnull().sum()>0:\n",
    "        print(\"/n There are null values in the \",col,\" column \")"
   ]
  },
  {
   "cell_type": "code",
   "execution_count": 95,
   "metadata": {},
   "outputs": [],
   "source": [
    "def info_of_num(col):\n",
    "    print(\"Mean value of \",col,\" is: \",df[col].mean())\n",
    "    print(\"Median value of \",col,\" is: \",df[col].median())\n",
    "    print(\"Mode of the \",col,\" is: \",df[col].mode()[0])\n",
    "    print(\"Standard deviation of the \",col,\" is: \",df[col].std())\n",
    "    print(\"Mssing values of the \",col,\" column: \",df[col].isnull().sum())"
   ]
  },
  {
   "cell_type": "code",
   "execution_count": 61,
   "metadata": {},
   "outputs": [
    {
     "name": "stdout",
     "output_type": "stream",
     "text": [
      "Unique values in  Upgrade  are:  ['Steel Ingot' 'Ebony Ingot' 'Dragon Bone' 'N/A' 'Dwarven Metal Ingot'\n",
      " 'Refined Moonstone' 'Refined Malachite' 'Iron Ingot' 'Quicksilver Ingot'\n",
      " 'Orichalcum Ingot' 'Stalhrim' 'None required' 'Chaurus Chitin'\n",
      " '3 Ectoplasm' 'Daedra HeartEbony Ingot' 'Firewood' 'Silver Ingot'\n",
      " 'Leather Strips' 'Dwarven metal ingot']\n",
      "Mode of the  Upgrade  is:  Steel Ingot\n",
      "Missing values of the  Upgrade  are:  0\n"
     ]
    }
   ],
   "source": [
    "info_of_cat('Upgrade')"
   ]
  },
  {
   "cell_type": "code",
   "execution_count": 73,
   "metadata": {},
   "outputs": [
    {
     "data": {
      "text/plain": [
       "<AxesSubplot:xlabel='count', ylabel='Upgrade'>"
      ]
     },
     "execution_count": 73,
     "metadata": {},
     "output_type": "execute_result"
    },
    {
     "data": {
      "image/png": "[encoded data removed]",
      "text/plain": [
       "<Figure size 720x720 with 1 Axes>"
      ]
     },
     "metadata": {
      "needs_background": "light"
     },
     "output_type": "display_data"
    }
   ],
   "source": [
    "fig=plt.figure(figsize=(10,10))\n",
    "sns.countplot(y=df[\"Upgrade\"])"
   ]
  },
  {
   "cell_type": "code",
   "execution_count": 63,
   "metadata": {},
   "outputs": [
    {
     "data": {
      "text/html": [
       "<div>\n",
       "<style scoped>\n",
       "    .dataframe tbody tr th:only-of-type {\n",
       "        vertical-align: middle;\n",
       "    }\n",
       "\n",
       "    .dataframe tbody tr th {\n",
       "        vertical-align: top;\n",
       "    }\n",
       "\n",
       "    .dataframe thead th {\n",
       "        text-align: right;\n",
       "    }\n",
       "</style>\n",
       "<table border=\"1\" class=\"dataframe\">\n",
       "  <thead>\n",
       "    <tr style=\"text-align: right;\">\n",
       "      <th></th>\n",
       "      <th>Name</th>\n",
       "      <th>Damage</th>\n",
       "      <th>Weight</th>\n",
       "      <th>Gold</th>\n",
       "      <th>Upgrade</th>\n",
       "      <th>Perk</th>\n",
       "      <th>Type</th>\n",
       "      <th>Category</th>\n",
       "      <th>Speed</th>\n",
       "    </tr>\n",
       "  </thead>\n",
       "  <tbody>\n",
       "    <tr>\n",
       "      <th>0</th>\n",
       "      <td>Ancient Nord Battle Axe</td>\n",
       "      <td>18</td>\n",
       "      <td>22.0</td>\n",
       "      <td>28</td>\n",
       "      <td>Steel Ingot</td>\n",
       "      <td>Steel</td>\n",
       "      <td>Battleaxe</td>\n",
       "      <td>Two-Handed</td>\n",
       "      <td>0.0</td>\n",
       "    </tr>\n",
       "    <tr>\n",
       "      <th>1</th>\n",
       "      <td>Daedric Battleaxe</td>\n",
       "      <td>25</td>\n",
       "      <td>27.0</td>\n",
       "      <td>2750</td>\n",
       "      <td>Ebony Ingot</td>\n",
       "      <td>Daedric</td>\n",
       "      <td>Battleaxe</td>\n",
       "      <td>Two-Handed</td>\n",
       "      <td>0.0</td>\n",
       "    </tr>\n",
       "    <tr>\n",
       "      <th>2</th>\n",
       "      <td>Dragonbone Battleaxe</td>\n",
       "      <td>26</td>\n",
       "      <td>30.0</td>\n",
       "      <td>3000</td>\n",
       "      <td>Dragon Bone</td>\n",
       "      <td>Dragon</td>\n",
       "      <td>Battleaxe</td>\n",
       "      <td>Two-Handed</td>\n",
       "      <td>0.0</td>\n",
       "    </tr>\n",
       "    <tr>\n",
       "      <th>3</th>\n",
       "      <td>Drainblood Battleaxe</td>\n",
       "      <td>21</td>\n",
       "      <td>5.0</td>\n",
       "      <td>266</td>\n",
       "      <td>N/A</td>\n",
       "      <td>None</td>\n",
       "      <td>Battleaxe</td>\n",
       "      <td>Two-Handed</td>\n",
       "      <td>0.0</td>\n",
       "    </tr>\n",
       "    <tr>\n",
       "      <th>4</th>\n",
       "      <td>Dwarven Battleaxe</td>\n",
       "      <td>20</td>\n",
       "      <td>23.0</td>\n",
       "      <td>300</td>\n",
       "      <td>Dwarven Metal Ingot</td>\n",
       "      <td>Dwarven</td>\n",
       "      <td>Battleaxe</td>\n",
       "      <td>Two-Handed</td>\n",
       "      <td>0.0</td>\n",
       "    </tr>\n",
       "  </tbody>\n",
       "</table>\n",
       "</div>"
      ],
      "text/plain": [
       "                      Name  Damage  Weight  Gold              Upgrade  \\\n",
       "0  Ancient Nord Battle Axe      18    22.0    28          Steel Ingot   \n",
       "1        Daedric Battleaxe      25    27.0  2750          Ebony Ingot   \n",
       "2    Dragonbone Battleaxe       26    30.0  3000          Dragon Bone   \n",
       "3     Drainblood Battleaxe      21     5.0   266                  N/A   \n",
       "4        Dwarven Battleaxe      20    23.0   300  Dwarven Metal Ingot   \n",
       "\n",
       "      Perk       Type    Category  Speed  \n",
       "0    Steel  Battleaxe  Two-Handed    0.0  \n",
       "1  Daedric  Battleaxe  Two-Handed    0.0  \n",
       "2   Dragon  Battleaxe  Two-Handed    0.0  \n",
       "3     None  Battleaxe  Two-Handed    0.0  \n",
       "4  Dwarven  Battleaxe  Two-Handed    0.0  "
      ]
     },
     "execution_count": 63,
     "metadata": {},
     "output_type": "execute_result"
    }
   ],
   "source": [
    "df.head()"
   ]
  },
  {
   "cell_type": "code",
   "execution_count": 65,
   "metadata": {},
   "outputs": [
    {
     "name": "stdout",
     "output_type": "stream",
     "text": [
      "Unique values in  Perk  are:  ['Steel' 'Daedric' 'Dragon' 'None' 'Dwarven' 'Ebony' 'Elven' 'Glass'\n",
      " 'Advanced' 'Orcish' '–']\n",
      "Mode of the  Perk  is:  None\n",
      "Missing values of the  Perk  are:  0\n"
     ]
    }
   ],
   "source": [
    "info_of_cat(\"Perk\")"
   ]
  },
  {
   "cell_type": "code",
   "execution_count": 86,
   "metadata": {},
   "outputs": [
    {
     "data": {
      "image/png": "[encoded data removed]",
      "text/plain": [
       "<Figure size 1080x504 with 2 Axes>"
      ]
     },
     "metadata": {
      "needs_background": "light"
     },
     "output_type": "display_data"
    }
   ],
   "source": [
    "fig,ax=plt.subplots(1,2,figsize=(15,7))\n",
    "sns.countplot(y=df[\"Perk\"],ax=ax[0])\n",
    "x=df[\"Perk\"].value_counts()\n",
    "labels=x.index\n",
    "plt.pie(x,labels=labels,autopct=\"%0.2f%%\")\n",
    "plt.show()"
   ]
  },
  {
   "cell_type": "code",
   "execution_count": 66,
   "metadata": {},
   "outputs": [
    {
     "name": "stdout",
     "output_type": "stream",
     "text": [
      "Unique values in  Type  are:  ['Battleaxe' 'Dagger' 'Mace' 'Sword' 'War Axe' 'Silverware' 'Greatsword'\n",
      " 'Warhammer' 'Bow' 'Arrow' 'Crossbow' 'Bolt']\n",
      "Mode of the  Type  is:  Sword\n",
      "Missing values of the  Type  are:  0\n"
     ]
    }
   ],
   "source": [
    "info_of_cat(\"Type\")"
   ]
  },
  {
   "cell_type": "code",
   "execution_count": 89,
   "metadata": {},
   "outputs": [
    {
     "data": {
      "image/png": "[encoded data removed]",
      "text/plain": [
       "<Figure size 1080x504 with 2 Axes>"
      ]
     },
     "metadata": {
      "needs_background": "light"
     },
     "output_type": "display_data"
    }
   ],
   "source": [
    "fig,ax=plt.subplots(1,2,figsize=(15,7))\n",
    "sns.countplot(y=df[\"Type\"],ax=ax[0])\n",
    "x=df[\"Type\"].value_counts()\n",
    "labels=x.index\n",
    "plt.pie(x,labels=labels,autopct=\"%0.2f%%\")\n",
    "plt.show()"
   ]
  },
  {
   "cell_type": "code",
   "execution_count": 67,
   "metadata": {},
   "outputs": [
    {
     "name": "stdout",
     "output_type": "stream",
     "text": [
      "Unique values in  Category  are:  ['Two-Handed' 'One-Handed' 'Archery']\n",
      "Mode of the  Category  is:  One-Handed\n",
      "Missing values of the  Category  are:  0\n"
     ]
    }
   ],
   "source": [
    "info_of_cat(\"Category\")"
   ]
  },
  {
   "cell_type": "code",
   "execution_count": 93,
   "metadata": {},
   "outputs": [
    {
     "data": {
      "image/png": "[encoded data removed]",
      "text/plain": [
       "<Figure size 1080x504 with 2 Axes>"
      ]
     },
     "metadata": {
      "needs_background": "light"
     },
     "output_type": "display_data"
    }
   ],
   "source": [
    "fig,ax=plt.subplots(1,2,figsize=(15,7))\n",
    "sns.countplot(x=df[\"Category\"],ax=ax[0])\n",
    "x=df[\"Category\"].value_counts()\n",
    "labels=x.index\n",
    "plt.pie(x,labels=labels,autopct=\"%0.2f%%\")\n",
    "plt.show()"
   ]
  },
  {
   "cell_type": "markdown",
   "metadata": {},
   "source": [
    "# Numerical"
   ]
  },
  {
   "cell_type": "code",
   "execution_count": 69,
   "metadata": {},
   "outputs": [
    {
     "data": {
      "text/html": [
       "<div>\n",
       "<style scoped>\n",
       "    .dataframe tbody tr th:only-of-type {\n",
       "        vertical-align: middle;\n",
       "    }\n",
       "\n",
       "    .dataframe tbody tr th {\n",
       "        vertical-align: top;\n",
       "    }\n",
       "\n",
       "    .dataframe thead th {\n",
       "        text-align: right;\n",
       "    }\n",
       "</style>\n",
       "<table border=\"1\" class=\"dataframe\">\n",
       "  <thead>\n",
       "    <tr style=\"text-align: right;\">\n",
       "      <th></th>\n",
       "      <th>Name</th>\n",
       "      <th>Damage</th>\n",
       "      <th>Weight</th>\n",
       "      <th>Gold</th>\n",
       "      <th>Upgrade</th>\n",
       "      <th>Perk</th>\n",
       "      <th>Type</th>\n",
       "      <th>Category</th>\n",
       "      <th>Speed</th>\n",
       "    </tr>\n",
       "  </thead>\n",
       "  <tbody>\n",
       "    <tr>\n",
       "      <th>0</th>\n",
       "      <td>Ancient Nord Battle Axe</td>\n",
       "      <td>18</td>\n",
       "      <td>22.0</td>\n",
       "      <td>28</td>\n",
       "      <td>Steel Ingot</td>\n",
       "      <td>Steel</td>\n",
       "      <td>Battleaxe</td>\n",
       "      <td>Two-Handed</td>\n",
       "      <td>0.0</td>\n",
       "    </tr>\n",
       "    <tr>\n",
       "      <th>1</th>\n",
       "      <td>Daedric Battleaxe</td>\n",
       "      <td>25</td>\n",
       "      <td>27.0</td>\n",
       "      <td>2750</td>\n",
       "      <td>Ebony Ingot</td>\n",
       "      <td>Daedric</td>\n",
       "      <td>Battleaxe</td>\n",
       "      <td>Two-Handed</td>\n",
       "      <td>0.0</td>\n",
       "    </tr>\n",
       "    <tr>\n",
       "      <th>2</th>\n",
       "      <td>Dragonbone Battleaxe</td>\n",
       "      <td>26</td>\n",
       "      <td>30.0</td>\n",
       "      <td>3000</td>\n",
       "      <td>Dragon Bone</td>\n",
       "      <td>Dragon</td>\n",
       "      <td>Battleaxe</td>\n",
       "      <td>Two-Handed</td>\n",
       "      <td>0.0</td>\n",
       "    </tr>\n",
       "    <tr>\n",
       "      <th>3</th>\n",
       "      <td>Drainblood Battleaxe</td>\n",
       "      <td>21</td>\n",
       "      <td>5.0</td>\n",
       "      <td>266</td>\n",
       "      <td>N/A</td>\n",
       "      <td>None</td>\n",
       "      <td>Battleaxe</td>\n",
       "      <td>Two-Handed</td>\n",
       "      <td>0.0</td>\n",
       "    </tr>\n",
       "    <tr>\n",
       "      <th>4</th>\n",
       "      <td>Dwarven Battleaxe</td>\n",
       "      <td>20</td>\n",
       "      <td>23.0</td>\n",
       "      <td>300</td>\n",
       "      <td>Dwarven Metal Ingot</td>\n",
       "      <td>Dwarven</td>\n",
       "      <td>Battleaxe</td>\n",
       "      <td>Two-Handed</td>\n",
       "      <td>0.0</td>\n",
       "    </tr>\n",
       "  </tbody>\n",
       "</table>\n",
       "</div>"
      ],
      "text/plain": [
       "                      Name  Damage  Weight  Gold              Upgrade  \\\n",
       "0  Ancient Nord Battle Axe      18    22.0    28          Steel Ingot   \n",
       "1        Daedric Battleaxe      25    27.0  2750          Ebony Ingot   \n",
       "2    Dragonbone Battleaxe       26    30.0  3000          Dragon Bone   \n",
       "3     Drainblood Battleaxe      21     5.0   266                  N/A   \n",
       "4        Dwarven Battleaxe      20    23.0   300  Dwarven Metal Ingot   \n",
       "\n",
       "      Perk       Type    Category  Speed  \n",
       "0    Steel  Battleaxe  Two-Handed    0.0  \n",
       "1  Daedric  Battleaxe  Two-Handed    0.0  \n",
       "2   Dragon  Battleaxe  Two-Handed    0.0  \n",
       "3     None  Battleaxe  Two-Handed    0.0  \n",
       "4  Dwarven  Battleaxe  Two-Handed    0.0  "
      ]
     },
     "execution_count": 69,
     "metadata": {},
     "output_type": "execute_result"
    }
   ],
   "source": [
    "df.head()"
   ]
  },
  {
   "cell_type": "code",
   "execution_count": 96,
   "metadata": {},
   "outputs": [
    {
     "name": "stdout",
     "output_type": "stream",
     "text": [
      "Mean value of  Damage  is:  13.017064846416382\n",
      "Median value of  Damage  is:  12.0\n",
      "Mode of the  Damage  is:  11\n",
      "Standard deviation of the  Damage  is:  5.692735901155187\n",
      "Mssing values of the  Damage  column:  0\n"
     ]
    }
   ],
   "source": [
    "info_of_num(\"Damage\")"
   ]
  },
  {
   "cell_type": "code",
   "execution_count": 97,
   "metadata": {},
   "outputs": [
    {
     "data": {
      "text/plain": [
       "<AxesSubplot:xlabel='Damage'>"
      ]
     },
     "execution_count": 97,
     "metadata": {},
     "output_type": "execute_result"
    },
    {
     "data": {
      "image/png": "[encoded data removed]",
      "text/plain": [
       "<Figure size 1080x504 with 2 Axes>"
      ]
     },
     "metadata": {
      "needs_background": "light"
     },
     "output_type": "display_data"
    }
   ],
   "source": [
    "fig,ax=plt.subplots(1,2,figsize=(15,7))\n",
    "sns.histplot(x=df['Damage'],ax=ax[0])\n",
    "sns.boxplot(x=df[\"Damage\"],ax=ax[1])"
   ]
  },
  {
   "cell_type": "code",
   "execution_count": 98,
   "metadata": {},
   "outputs": [
    {
     "name": "stdout",
     "output_type": "stream",
     "text": [
      "Mean value of  Weight  is:  12.590443686006825\n",
      "Median value of  Weight  is:  12.0\n",
      "Mode of the  Weight  is:  0.0\n",
      "Standard deviation of the  Weight  is:  7.649839563704182\n",
      "Mssing values of the  Weight  column:  0\n"
     ]
    }
   ],
   "source": [
    "info_of_num(\"Weight\")"
   ]
  },
  {
   "cell_type": "code",
   "execution_count": 99,
   "metadata": {},
   "outputs": [
    {
     "data": {
      "text/plain": [
       "<AxesSubplot:xlabel='Weight'>"
      ]
     },
     "execution_count": 99,
     "metadata": {},
     "output_type": "execute_result"
    },
    {
     "data": {
      "image/png": "[encoded data removed]",
      "text/plain": [
       "<Figure size 1080x504 with 2 Axes>"
      ]
     },
     "metadata": {
      "needs_background": "light"
     },
     "output_type": "display_data"
    }
   ],
   "source": [
    "fig,ax=plt.subplots(1,2,figsize=(15,7))\n",
    "sns.histplot(x=df[\"Weight\"],ax=ax[0])\n",
    "sns.boxplot(x=df[\"Weight\"],ax=ax[1])"
   ]
  },
  {
   "cell_type": "markdown",
   "metadata": {},
   "source": [
    "# outlier Analysis"
   ]
  },
  {
   "cell_type": "code",
   "execution_count": 100,
   "metadata": {},
   "outputs": [
    {
     "data": {
      "text/plain": [
       "count    293.000000\n",
       "mean      12.590444\n",
       "std        7.649840\n",
       "min        0.000000\n",
       "25%        9.000000\n",
       "50%       12.000000\n",
       "75%       17.000000\n",
       "max       36.000000\n",
       "Name: Weight, dtype: float64"
      ]
     },
     "execution_count": 100,
     "metadata": {},
     "output_type": "execute_result"
    }
   ],
   "source": [
    "df[\"Weight\"].describe()"
   ]
  },
  {
   "cell_type": "code",
   "execution_count": 101,
   "metadata": {},
   "outputs": [],
   "source": [
    "percentile_1=df[\"Weight\"].quantile(0.25)\n",
    "percentile_3=df[\"Weight\"].quantile(0.75)\n",
    "IQR=percentile_3-percentile_1"
   ]
  },
  {
   "cell_type": "code",
   "execution_count": 102,
   "metadata": {},
   "outputs": [],
   "source": [
    "upper_limit=percentile_3+1.5*IQR\n",
    "lower_limit=percentile_1-1.5*IQR"
   ]
  },
  {
   "cell_type": "code",
   "execution_count": 119,
   "metadata": {},
   "outputs": [
    {
     "data": {
      "text/html": [
       "<div>\n",
       "<style scoped>\n",
       "    .dataframe tbody tr th:only-of-type {\n",
       "        vertical-align: middle;\n",
       "    }\n",
       "\n",
       "    .dataframe tbody tr th {\n",
       "        vertical-align: top;\n",
       "    }\n",
       "\n",
       "    .dataframe thead th {\n",
       "        text-align: right;\n",
       "    }\n",
       "</style>\n",
       "<table border=\"1\" class=\"dataframe\">\n",
       "  <thead>\n",
       "    <tr style=\"text-align: right;\">\n",
       "      <th></th>\n",
       "      <th>Name</th>\n",
       "      <th>Damage</th>\n",
       "      <th>Weight</th>\n",
       "      <th>Gold</th>\n",
       "      <th>Upgrade</th>\n",
       "      <th>Perk</th>\n",
       "      <th>Type</th>\n",
       "      <th>Category</th>\n",
       "      <th>Speed</th>\n",
       "    </tr>\n",
       "  </thead>\n",
       "  <tbody>\n",
       "  </tbody>\n",
       "</table>\n",
       "</div>"
      ],
      "text/plain": [
       "Empty DataFrame\n",
       "Columns: [Name, Damage, Weight, Gold, Upgrade, Perk, Type, Category, Speed]\n",
       "Index: []"
      ]
     },
     "execution_count": 119,
     "metadata": {},
     "output_type": "execute_result"
    }
   ],
   "source": [
    "x=df[(df[\"Weight\"]>upper_limit) | (df[\"Weight\"]<lower_limit)]\n",
    "x"
   ]
  },
  {
   "cell_type": "code",
   "execution_count": 115,
   "metadata": {},
   "outputs": [],
   "source": [
    "# mean=int(df[\"Weight\"].mean())\n",
    "# for index in x:\n",
    "#     df.iloc[index,\"Weight\"]=mean\n",
    "\n",
    "mean=int(df[\"Weight\"].mean())\n",
    "x1=x.index\n",
    "for index in x1:\n",
    "    df.loc[index,\"Weight\"]=mean"
   ]
  },
  {
   "cell_type": "code",
   "execution_count": 118,
   "metadata": {},
   "outputs": [
    {
     "data": {
      "text/html": [
       "<div>\n",
       "<style scoped>\n",
       "    .dataframe tbody tr th:only-of-type {\n",
       "        vertical-align: middle;\n",
       "    }\n",
       "\n",
       "    .dataframe tbody tr th {\n",
       "        vertical-align: top;\n",
       "    }\n",
       "\n",
       "    .dataframe thead th {\n",
       "        text-align: right;\n",
       "    }\n",
       "</style>\n",
       "<table border=\"1\" class=\"dataframe\">\n",
       "  <thead>\n",
       "    <tr style=\"text-align: right;\">\n",
       "      <th></th>\n",
       "      <th>Name</th>\n",
       "      <th>Damage</th>\n",
       "      <th>Weight</th>\n",
       "      <th>Gold</th>\n",
       "      <th>Upgrade</th>\n",
       "      <th>Perk</th>\n",
       "      <th>Type</th>\n",
       "      <th>Category</th>\n",
       "      <th>Speed</th>\n",
       "    </tr>\n",
       "  </thead>\n",
       "  <tbody>\n",
       "    <tr>\n",
       "      <th>2</th>\n",
       "      <td>Dragonbone Battleaxe</td>\n",
       "      <td>26</td>\n",
       "      <td>30.0</td>\n",
       "      <td>3000</td>\n",
       "      <td>Dragon Bone</td>\n",
       "      <td>Dragon</td>\n",
       "      <td>Battleaxe</td>\n",
       "      <td>Two-Handed</td>\n",
       "      <td>0.0</td>\n",
       "    </tr>\n",
       "    <tr>\n",
       "      <th>20</th>\n",
       "      <td>Tsun's Battleaxe</td>\n",
       "      <td>27</td>\n",
       "      <td>36.0</td>\n",
       "      <td>1000</td>\n",
       "      <td>N/A</td>\n",
       "      <td>None</td>\n",
       "      <td>Battleaxe</td>\n",
       "      <td>Two-Handed</td>\n",
       "      <td>0.0</td>\n",
       "    </tr>\n",
       "    <tr>\n",
       "      <th>205</th>\n",
       "      <td>Daedric Warhammer</td>\n",
       "      <td>27</td>\n",
       "      <td>31.0</td>\n",
       "      <td>4000</td>\n",
       "      <td>Ebony Ingot</td>\n",
       "      <td>Daedric</td>\n",
       "      <td>Warhammer</td>\n",
       "      <td>Two-Handed</td>\n",
       "      <td>0.0</td>\n",
       "    </tr>\n",
       "    <tr>\n",
       "      <th>208</th>\n",
       "      <td>Dragonbone Warhammer</td>\n",
       "      <td>28</td>\n",
       "      <td>33.0</td>\n",
       "      <td>4275</td>\n",
       "      <td>Dragon Bone</td>\n",
       "      <td>Dragon</td>\n",
       "      <td>Warhammer</td>\n",
       "      <td>Two-Handed</td>\n",
       "      <td>0.0</td>\n",
       "    </tr>\n",
       "    <tr>\n",
       "      <th>210</th>\n",
       "      <td>Ebony Warhammer</td>\n",
       "      <td>25</td>\n",
       "      <td>30.0</td>\n",
       "      <td>1725</td>\n",
       "      <td>Ebony Ingot</td>\n",
       "      <td>Ebony</td>\n",
       "      <td>Warhammer</td>\n",
       "      <td>Two-Handed</td>\n",
       "      <td>0.0</td>\n",
       "    </tr>\n",
       "  </tbody>\n",
       "</table>\n",
       "</div>"
      ],
      "text/plain": [
       "                      Name  Damage  Weight  Gold      Upgrade     Perk  \\\n",
       "2    Dragonbone Battleaxe       26    30.0  3000  Dragon Bone   Dragon   \n",
       "20        Tsun's Battleaxe      27    36.0  1000          N/A     None   \n",
       "205      Daedric Warhammer      27    31.0  4000  Ebony Ingot  Daedric   \n",
       "208  Dragonbone Warhammer       28    33.0  4275  Dragon Bone   Dragon   \n",
       "210        Ebony Warhammer      25    30.0  1725  Ebony Ingot    Ebony   \n",
       "\n",
       "          Type    Category  Speed  \n",
       "2    Battleaxe  Two-Handed    0.0  \n",
       "20   Battleaxe  Two-Handed    0.0  \n",
       "205  Warhammer  Two-Handed    0.0  \n",
       "208  Warhammer  Two-Handed    0.0  \n",
       "210  Warhammer  Two-Handed    0.0  "
      ]
     },
     "execution_count": 118,
     "metadata": {},
     "output_type": "execute_result"
    }
   ],
   "source": [
    "x"
   ]
  },
  {
   "cell_type": "code",
   "execution_count": 117,
   "metadata": {},
   "outputs": [
    {
     "data": {
      "text/plain": [
       "<AxesSubplot:xlabel='Weight'>"
      ]
     },
     "execution_count": 117,
     "metadata": {},
     "output_type": "execute_result"
    },
    {
     "data": {
      "image/png": "[encoded data removed]",
      "text/plain": [
       "<Figure size 1080x504 with 2 Axes>"
      ]
     },
     "metadata": {
      "needs_background": "light"
     },
     "output_type": "display_data"
    }
   ],
   "source": [
    "fig,ax=plt.subplots(1,2,figsize=(15,7))\n",
    "sns.histplot(x=df[\"Weight\"],ax=ax[0])\n",
    "sns.boxplot(x=df[\"Weight\"],ax=ax[1])"
   ]
  },
  {
   "cell_type": "code",
   "execution_count": 120,
   "metadata": {},
   "outputs": [
    {
     "data": {
      "text/html": [
       "<div>\n",
       "<style scoped>\n",
       "    .dataframe tbody tr th:only-of-type {\n",
       "        vertical-align: middle;\n",
       "    }\n",
       "\n",
       "    .dataframe tbody tr th {\n",
       "        vertical-align: top;\n",
       "    }\n",
       "\n",
       "    .dataframe thead th {\n",
       "        text-align: right;\n",
       "    }\n",
       "</style>\n",
       "<table border=\"1\" class=\"dataframe\">\n",
       "  <thead>\n",
       "    <tr style=\"text-align: right;\">\n",
       "      <th></th>\n",
       "      <th>Name</th>\n",
       "      <th>Damage</th>\n",
       "      <th>Weight</th>\n",
       "      <th>Gold</th>\n",
       "      <th>Upgrade</th>\n",
       "      <th>Perk</th>\n",
       "      <th>Type</th>\n",
       "      <th>Category</th>\n",
       "      <th>Speed</th>\n",
       "    </tr>\n",
       "  </thead>\n",
       "  <tbody>\n",
       "    <tr>\n",
       "      <th>0</th>\n",
       "      <td>Ancient Nord Battle Axe</td>\n",
       "      <td>18</td>\n",
       "      <td>22.0</td>\n",
       "      <td>28</td>\n",
       "      <td>Steel Ingot</td>\n",
       "      <td>Steel</td>\n",
       "      <td>Battleaxe</td>\n",
       "      <td>Two-Handed</td>\n",
       "      <td>0.0</td>\n",
       "    </tr>\n",
       "    <tr>\n",
       "      <th>1</th>\n",
       "      <td>Daedric Battleaxe</td>\n",
       "      <td>25</td>\n",
       "      <td>27.0</td>\n",
       "      <td>2750</td>\n",
       "      <td>Ebony Ingot</td>\n",
       "      <td>Daedric</td>\n",
       "      <td>Battleaxe</td>\n",
       "      <td>Two-Handed</td>\n",
       "      <td>0.0</td>\n",
       "    </tr>\n",
       "    <tr>\n",
       "      <th>2</th>\n",
       "      <td>Dragonbone Battleaxe</td>\n",
       "      <td>26</td>\n",
       "      <td>12.0</td>\n",
       "      <td>3000</td>\n",
       "      <td>Dragon Bone</td>\n",
       "      <td>Dragon</td>\n",
       "      <td>Battleaxe</td>\n",
       "      <td>Two-Handed</td>\n",
       "      <td>0.0</td>\n",
       "    </tr>\n",
       "    <tr>\n",
       "      <th>3</th>\n",
       "      <td>Drainblood Battleaxe</td>\n",
       "      <td>21</td>\n",
       "      <td>5.0</td>\n",
       "      <td>266</td>\n",
       "      <td>N/A</td>\n",
       "      <td>None</td>\n",
       "      <td>Battleaxe</td>\n",
       "      <td>Two-Handed</td>\n",
       "      <td>0.0</td>\n",
       "    </tr>\n",
       "    <tr>\n",
       "      <th>4</th>\n",
       "      <td>Dwarven Battleaxe</td>\n",
       "      <td>20</td>\n",
       "      <td>23.0</td>\n",
       "      <td>300</td>\n",
       "      <td>Dwarven Metal Ingot</td>\n",
       "      <td>Dwarven</td>\n",
       "      <td>Battleaxe</td>\n",
       "      <td>Two-Handed</td>\n",
       "      <td>0.0</td>\n",
       "    </tr>\n",
       "  </tbody>\n",
       "</table>\n",
       "</div>"
      ],
      "text/plain": [
       "                      Name  Damage  Weight  Gold              Upgrade  \\\n",
       "0  Ancient Nord Battle Axe      18    22.0    28          Steel Ingot   \n",
       "1        Daedric Battleaxe      25    27.0  2750          Ebony Ingot   \n",
       "2    Dragonbone Battleaxe       26    12.0  3000          Dragon Bone   \n",
       "3     Drainblood Battleaxe      21     5.0   266                  N/A   \n",
       "4        Dwarven Battleaxe      20    23.0   300  Dwarven Metal Ingot   \n",
       "\n",
       "      Perk       Type    Category  Speed  \n",
       "0    Steel  Battleaxe  Two-Handed    0.0  \n",
       "1  Daedric  Battleaxe  Two-Handed    0.0  \n",
       "2   Dragon  Battleaxe  Two-Handed    0.0  \n",
       "3     None  Battleaxe  Two-Handed    0.0  \n",
       "4  Dwarven  Battleaxe  Two-Handed    0.0  "
      ]
     },
     "execution_count": 120,
     "metadata": {},
     "output_type": "execute_result"
    }
   ],
   "source": [
    "df.head()"
   ]
  },
  {
   "cell_type": "code",
   "execution_count": 128,
   "metadata": {},
   "outputs": [
    {
     "data": {
      "text/plain": [
       "<AxesSubplot:xlabel='Type', ylabel='Count'>"
      ]
     },
     "execution_count": 128,
     "metadata": {},
     "output_type": "execute_result"
    },
    {
     "data": {
      "image/png": "[encoded data removed]",
      "text/plain": [
       "<Figure size 1080x504 with 1 Axes>"
      ]
     },
     "metadata": {
      "needs_background": "light"
     },
     "output_type": "display_data"
    }
   ],
   "source": [
    "df1=df.groupby([\"Category\"])[\"Type\"].value_counts().to_frame(name=\"Count\").reset_index()\n",
    "fig=plt.figure(figsize=(15,7))\n",
    "sns.barplot(x='Type',y='Count',hue='Category',data=df1)"
   ]
  },
  {
   "cell_type": "code",
   "execution_count": 131,
   "metadata": {},
   "outputs": [
    {
     "data": {
      "text/plain": [
       "<AxesSubplot:ylabel='Type'>"
      ]
     },
     "execution_count": 131,
     "metadata": {},
     "output_type": "execute_result"
    },
    {
     "data": {
      "image/png": "[encoded data removed]",
      "text/plain": [
       "<Figure size 432x288 with 1 Axes>"
      ]
     },
     "metadata": {
      "needs_background": "light"
     },
     "output_type": "display_data"
    }
   ],
   "source": [
    "df.groupby([\"Type\"])[\"Damage\"].sum().plot(kind='barh')"
   ]
  },
  {
   "cell_type": "code",
   "execution_count": 129,
   "metadata": {},
   "outputs": [
    {
     "data": {
      "text/html": [
       "<div>\n",
       "<style scoped>\n",
       "    .dataframe tbody tr th:only-of-type {\n",
       "        vertical-align: middle;\n",
       "    }\n",
       "\n",
       "    .dataframe tbody tr th {\n",
       "        vertical-align: top;\n",
       "    }\n",
       "\n",
       "    .dataframe thead th {\n",
       "        text-align: right;\n",
       "    }\n",
       "</style>\n",
       "<table border=\"1\" class=\"dataframe\">\n",
       "  <thead>\n",
       "    <tr style=\"text-align: right;\">\n",
       "      <th></th>\n",
       "      <th>Name</th>\n",
       "      <th>Damage</th>\n",
       "      <th>Weight</th>\n",
       "      <th>Gold</th>\n",
       "      <th>Upgrade</th>\n",
       "      <th>Perk</th>\n",
       "      <th>Type</th>\n",
       "      <th>Category</th>\n",
       "      <th>Speed</th>\n",
       "    </tr>\n",
       "  </thead>\n",
       "  <tbody>\n",
       "    <tr>\n",
       "      <th>0</th>\n",
       "      <td>Ancient Nord Battle Axe</td>\n",
       "      <td>18</td>\n",
       "      <td>22.0</td>\n",
       "      <td>28</td>\n",
       "      <td>Steel Ingot</td>\n",
       "      <td>Steel</td>\n",
       "      <td>Battleaxe</td>\n",
       "      <td>Two-Handed</td>\n",
       "      <td>0.0</td>\n",
       "    </tr>\n",
       "    <tr>\n",
       "      <th>1</th>\n",
       "      <td>Daedric Battleaxe</td>\n",
       "      <td>25</td>\n",
       "      <td>27.0</td>\n",
       "      <td>2750</td>\n",
       "      <td>Ebony Ingot</td>\n",
       "      <td>Daedric</td>\n",
       "      <td>Battleaxe</td>\n",
       "      <td>Two-Handed</td>\n",
       "      <td>0.0</td>\n",
       "    </tr>\n",
       "    <tr>\n",
       "      <th>2</th>\n",
       "      <td>Dragonbone Battleaxe</td>\n",
       "      <td>26</td>\n",
       "      <td>12.0</td>\n",
       "      <td>3000</td>\n",
       "      <td>Dragon Bone</td>\n",
       "      <td>Dragon</td>\n",
       "      <td>Battleaxe</td>\n",
       "      <td>Two-Handed</td>\n",
       "      <td>0.0</td>\n",
       "    </tr>\n",
       "    <tr>\n",
       "      <th>3</th>\n",
       "      <td>Drainblood Battleaxe</td>\n",
       "      <td>21</td>\n",
       "      <td>5.0</td>\n",
       "      <td>266</td>\n",
       "      <td>N/A</td>\n",
       "      <td>None</td>\n",
       "      <td>Battleaxe</td>\n",
       "      <td>Two-Handed</td>\n",
       "      <td>0.0</td>\n",
       "    </tr>\n",
       "    <tr>\n",
       "      <th>4</th>\n",
       "      <td>Dwarven Battleaxe</td>\n",
       "      <td>20</td>\n",
       "      <td>23.0</td>\n",
       "      <td>300</td>\n",
       "      <td>Dwarven Metal Ingot</td>\n",
       "      <td>Dwarven</td>\n",
       "      <td>Battleaxe</td>\n",
       "      <td>Two-Handed</td>\n",
       "      <td>0.0</td>\n",
       "    </tr>\n",
       "  </tbody>\n",
       "</table>\n",
       "</div>"
      ],
      "text/plain": [
       "                      Name  Damage  Weight  Gold              Upgrade  \\\n",
       "0  Ancient Nord Battle Axe      18    22.0    28          Steel Ingot   \n",
       "1        Daedric Battleaxe      25    27.0  2750          Ebony Ingot   \n",
       "2    Dragonbone Battleaxe       26    12.0  3000          Dragon Bone   \n",
       "3     Drainblood Battleaxe      21     5.0   266                  N/A   \n",
       "4        Dwarven Battleaxe      20    23.0   300  Dwarven Metal Ingot   \n",
       "\n",
       "      Perk       Type    Category  Speed  \n",
       "0    Steel  Battleaxe  Two-Handed    0.0  \n",
       "1  Daedric  Battleaxe  Two-Handed    0.0  \n",
       "2   Dragon  Battleaxe  Two-Handed    0.0  \n",
       "3     None  Battleaxe  Two-Handed    0.0  \n",
       "4  Dwarven  Battleaxe  Two-Handed    0.0  "
      ]
     },
     "execution_count": 129,
     "metadata": {},
     "output_type": "execute_result"
    }
   ],
   "source": [
    "df.head()"
   ]
  },
  {
   "cell_type": "code",
   "execution_count": 139,
   "metadata": {},
   "outputs": [
    {
     "data": {
      "text/plain": [
       "<AxesSubplot:xlabel='Type'>"
      ]
     },
     "execution_count": 139,
     "metadata": {},
     "output_type": "execute_result"
    },
    {
     "data": {
      "image/png": "[encoded data removed]",
      "text/plain": [
       "<Figure size 432x288 with 1 Axes>"
      ]
     },
     "metadata": {
      "needs_background": "light"
     },
     "output_type": "display_data"
    }
   ],
   "source": [
    "df2=df.loc[df[\"Category\"]==\"Two-Handed\"]\n",
    "df2.groupby([\"Type\"])[\"Gold\"].sum().plot(kind='bar')"
   ]
  },
  {
   "cell_type": "code",
   "execution_count": 144,
   "metadata": {},
   "outputs": [
    {
     "data": {
      "text/plain": [
       "<AxesSubplot:xlabel='Type'>"
      ]
     },
     "execution_count": 144,
     "metadata": {},
     "output_type": "execute_result"
    },
    {
     "data": {
      "image/png": "[encoded data removed]",
      "text/plain": [
       "<Figure size 432x288 with 1 Axes>"
      ]
     },
     "metadata": {
      "needs_background": "light"
     },
     "output_type": "display_data"
    }
   ],
   "source": [
    "df2.groupby([\"Type\"])[\"Weight\"].mean().plot(kind='bar')"
   ]
  },
  {
   "cell_type": "code",
   "execution_count": 146,
   "metadata": {},
   "outputs": [
    {
     "data": {
      "text/plain": [
       "<AxesSubplot:xlabel='Type'>"
      ]
     },
     "execution_count": 146,
     "metadata": {},
     "output_type": "execute_result"
    },
    {
     "data": {
      "image/png": "[encoded data removed]",
      "text/plain": [
       "<Figure size 432x288 with 1 Axes>"
      ]
     },
     "metadata": {
      "needs_background": "light"
     },
     "output_type": "display_data"
    }
   ],
   "source": [
    "df2.groupby([\"Type\"])[\"Damage\"].sum().plot(kind='bar')"
   ]
  },
  {
   "cell_type": "code",
   "execution_count": null,
   "metadata": {},
   "outputs": [],
   "source": [
    "df2[]"
   ]
  },
  {
   "cell_type": "code",
   "execution_count": 147,
   "metadata": {},
   "outputs": [
    {
     "data": {
      "text/html": [
       "<div>\n",
       "<style scoped>\n",
       "    .dataframe tbody tr th:only-of-type {\n",
       "        vertical-align: middle;\n",
       "    }\n",
       "\n",
       "    .dataframe tbody tr th {\n",
       "        vertical-align: top;\n",
       "    }\n",
       "\n",
       "    .dataframe thead th {\n",
       "        text-align: right;\n",
       "    }\n",
       "</style>\n",
       "<table border=\"1\" class=\"dataframe\">\n",
       "  <thead>\n",
       "    <tr style=\"text-align: right;\">\n",
       "      <th></th>\n",
       "      <th>Name</th>\n",
       "      <th>Damage</th>\n",
       "      <th>Weight</th>\n",
       "      <th>Gold</th>\n",
       "      <th>Upgrade</th>\n",
       "      <th>Perk</th>\n",
       "      <th>Type</th>\n",
       "      <th>Category</th>\n",
       "      <th>Speed</th>\n",
       "    </tr>\n",
       "  </thead>\n",
       "  <tbody>\n",
       "    <tr>\n",
       "      <th>0</th>\n",
       "      <td>Ancient Nord Battle Axe</td>\n",
       "      <td>18</td>\n",
       "      <td>22.0</td>\n",
       "      <td>28</td>\n",
       "      <td>Steel Ingot</td>\n",
       "      <td>Steel</td>\n",
       "      <td>Battleaxe</td>\n",
       "      <td>Two-Handed</td>\n",
       "      <td>0.0</td>\n",
       "    </tr>\n",
       "    <tr>\n",
       "      <th>1</th>\n",
       "      <td>Daedric Battleaxe</td>\n",
       "      <td>25</td>\n",
       "      <td>27.0</td>\n",
       "      <td>2750</td>\n",
       "      <td>Ebony Ingot</td>\n",
       "      <td>Daedric</td>\n",
       "      <td>Battleaxe</td>\n",
       "      <td>Two-Handed</td>\n",
       "      <td>0.0</td>\n",
       "    </tr>\n",
       "    <tr>\n",
       "      <th>2</th>\n",
       "      <td>Dragonbone Battleaxe</td>\n",
       "      <td>26</td>\n",
       "      <td>12.0</td>\n",
       "      <td>3000</td>\n",
       "      <td>Dragon Bone</td>\n",
       "      <td>Dragon</td>\n",
       "      <td>Battleaxe</td>\n",
       "      <td>Two-Handed</td>\n",
       "      <td>0.0</td>\n",
       "    </tr>\n",
       "    <tr>\n",
       "      <th>3</th>\n",
       "      <td>Drainblood Battleaxe</td>\n",
       "      <td>21</td>\n",
       "      <td>5.0</td>\n",
       "      <td>266</td>\n",
       "      <td>N/A</td>\n",
       "      <td>None</td>\n",
       "      <td>Battleaxe</td>\n",
       "      <td>Two-Handed</td>\n",
       "      <td>0.0</td>\n",
       "    </tr>\n",
       "    <tr>\n",
       "      <th>4</th>\n",
       "      <td>Dwarven Battleaxe</td>\n",
       "      <td>20</td>\n",
       "      <td>23.0</td>\n",
       "      <td>300</td>\n",
       "      <td>Dwarven Metal Ingot</td>\n",
       "      <td>Dwarven</td>\n",
       "      <td>Battleaxe</td>\n",
       "      <td>Two-Handed</td>\n",
       "      <td>0.0</td>\n",
       "    </tr>\n",
       "  </tbody>\n",
       "</table>\n",
       "</div>"
      ],
      "text/plain": [
       "                      Name  Damage  Weight  Gold              Upgrade  \\\n",
       "0  Ancient Nord Battle Axe      18    22.0    28          Steel Ingot   \n",
       "1        Daedric Battleaxe      25    27.0  2750          Ebony Ingot   \n",
       "2    Dragonbone Battleaxe       26    12.0  3000          Dragon Bone   \n",
       "3     Drainblood Battleaxe      21     5.0   266                  N/A   \n",
       "4        Dwarven Battleaxe      20    23.0   300  Dwarven Metal Ingot   \n",
       "\n",
       "      Perk       Type    Category  Speed  \n",
       "0    Steel  Battleaxe  Two-Handed    0.0  \n",
       "1  Daedric  Battleaxe  Two-Handed    0.0  \n",
       "2   Dragon  Battleaxe  Two-Handed    0.0  \n",
       "3     None  Battleaxe  Two-Handed    0.0  \n",
       "4  Dwarven  Battleaxe  Two-Handed    0.0  "
      ]
     },
     "execution_count": 147,
     "metadata": {},
     "output_type": "execute_result"
    }
   ],
   "source": [
    "df.head()"
   ]
  },
  {
   "cell_type": "code",
   "execution_count": 148,
   "metadata": {},
   "outputs": [
    {
     "data": {
      "text/plain": [
       "array(['Two-Handed', 'One-Handed', 'Archery'], dtype=object)"
      ]
     },
     "execution_count": 148,
     "metadata": {},
     "output_type": "execute_result"
    }
   ],
   "source": [
    "df[\"Category\"].unique()"
   ]
  },
  {
   "cell_type": "code",
   "execution_count": null,
   "metadata": {},
   "outputs": [],
   "source": []
  }
 ],
 "metadata": {
  "interpreter": {
   "hash": "ad2bdc8ecc057115af97d19610ffacc2b4e99fae6737bb82f5d7fb13d2f2c186"
  },
  "kernelspec": {
   "display_name": "Python 3.9.7 ('base')",
   "language": "python",
   "name": "python3"
  },
  "language_info": {
   "codemirror_mode": {
    "name": "ipython",
    "version": 3
   },
   "file_extension": ".py",
   "mimetype": "text/x-python",
   "name": "python",
   "nbconvert_exporter": "python",
   "pygments_lexer": "ipython3",
   "version": "3.9.7"
  },
  "orig_nbformat": 4
 },
 "nbformat": 4,
 "nbformat_minor": 2
}
