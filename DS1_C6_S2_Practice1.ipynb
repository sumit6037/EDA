{
 "cells": [
  {
   "cell_type": "markdown",
   "metadata": {},
   "source": [
    "# 3 Levels for Exploring Data \n",
    "\n",
    "* Level 0 : Getting Started\n",
    "* Level 1 : Univariate Analysis\n",
    "* Level 2 : Bi-Variate Analysis\n",
    "* Lever 3 : Multivariate Analysis and asking questions from the data"
   ]
  },
  {
   "cell_type": "markdown",
   "metadata": {},
   "source": [
    "## Level 0 Tasks (Getting Started) \n",
    "\n",
    "1.Visually inspect the first few and last few rows of the data \\\n",
    "2.Check the shape of the data frame \\\n",
    "3.Check the count of null values in each column \\\n",
    "4.Inspect all the column names and cross check with the data dictionary \\\n",
    "5.Check the information of the data frame using the info() function "
   ]
  },
  {
   "cell_type": "markdown",
   "metadata": {},
   "source": [
    "# Importing the necessary libraries "
   ]
  },
  {
   "cell_type": "code",
   "execution_count": 1,
   "metadata": {},
   "outputs": [
    {
     "name": "stdout",
     "output_type": "stream",
     "text": [
      "Requirement already satisfied: tabulate in c:\\programdata\\anaconda3\\lib\\site-packages (0.8.9)\n",
      "Note: you may need to restart the kernel to use updated packages.\n"
     ]
    }
   ],
   "source": [
    "%pip install tabulate"
   ]
  },
  {
   "cell_type": "code",
   "execution_count": 2,
   "metadata": {},
   "outputs": [],
   "source": [
    "import matplotlib.pyplot as plt             # to visualize\n",
    "from tabulate import tabulate               # to print the table\n",
    "import matplotlib as mat                    # to visualize \n",
    "import seaborn as sns                       # to visualize\n",
    "import pandas as pd                         # for data reading\n",
    "import numpy as np                          # for numerical computation"
   ]
  },
  {
   "cell_type": "code",
   "execution_count": 3,
   "metadata": {},
   "outputs": [],
   "source": [
    "# Ensure that the data file is in the current working directory as that of the Jupyter notebook\n",
    "\n",
    "df = pd.read_csv(\"C:/Users/PC/Desktop/IBM_data.csv\") # read_csv: inbuilt function of pandas to read files "
   ]
  },
  {
   "cell_type": "markdown",
   "metadata": {},
   "source": [
    "# Level 0 analysis (Getting Started)"
   ]
  },
  {
   "cell_type": "markdown",
   "metadata": {},
   "source": [
    "# Reading the top 5 rows "
   ]
  },
  {
   "cell_type": "code",
   "execution_count": 4,
   "metadata": {},
   "outputs": [
    {
     "data": {
      "text/html": [
       "<div>\n",
       "<style scoped>\n",
       "    .dataframe tbody tr th:only-of-type {\n",
       "        vertical-align: middle;\n",
       "    }\n",
       "\n",
       "    .dataframe tbody tr th {\n",
       "        vertical-align: top;\n",
       "    }\n",
       "\n",
       "    .dataframe thead th {\n",
       "        text-align: right;\n",
       "    }\n",
       "</style>\n",
       "<table border=\"1\" class=\"dataframe\">\n",
       "  <thead>\n",
       "    <tr style=\"text-align: right;\">\n",
       "      <th></th>\n",
       "      <th>Age</th>\n",
       "      <th>Attrition</th>\n",
       "      <th>BusinessTravel</th>\n",
       "      <th>Department</th>\n",
       "      <th>DistanceFromHome</th>\n",
       "      <th>EducationField</th>\n",
       "      <th>EmployeeNumber</th>\n",
       "      <th>EnvironmentSatisfaction</th>\n",
       "      <th>Gender</th>\n",
       "      <th>HourlyRate</th>\n",
       "      <th>...</th>\n",
       "      <th>OverTime</th>\n",
       "      <th>PerformanceRating</th>\n",
       "      <th>RelationshipSatisfaction</th>\n",
       "      <th>TotalWorkingYears</th>\n",
       "      <th>TrainingTimesLastYear</th>\n",
       "      <th>WorkLifeBalance</th>\n",
       "      <th>YearsAtCompany</th>\n",
       "      <th>YearsInCurrentRole</th>\n",
       "      <th>YearsSinceLastPromotion</th>\n",
       "      <th>YearsWithCurrManager</th>\n",
       "    </tr>\n",
       "  </thead>\n",
       "  <tbody>\n",
       "    <tr>\n",
       "      <th>0</th>\n",
       "      <td>41.0</td>\n",
       "      <td>Yes</td>\n",
       "      <td>Travel_Rarely</td>\n",
       "      <td>Sales</td>\n",
       "      <td>1</td>\n",
       "      <td>Life Sciences</td>\n",
       "      <td>1</td>\n",
       "      <td>2</td>\n",
       "      <td>Female</td>\n",
       "      <td>94</td>\n",
       "      <td>...</td>\n",
       "      <td>Yes</td>\n",
       "      <td>3</td>\n",
       "      <td>1</td>\n",
       "      <td>8</td>\n",
       "      <td>0</td>\n",
       "      <td>1</td>\n",
       "      <td>6</td>\n",
       "      <td>4</td>\n",
       "      <td>0</td>\n",
       "      <td>5</td>\n",
       "    </tr>\n",
       "    <tr>\n",
       "      <th>1</th>\n",
       "      <td>49.0</td>\n",
       "      <td>No</td>\n",
       "      <td>Travel_Frequently</td>\n",
       "      <td>Research &amp; Development</td>\n",
       "      <td>8</td>\n",
       "      <td>Life Sciences</td>\n",
       "      <td>2</td>\n",
       "      <td>3</td>\n",
       "      <td>Male</td>\n",
       "      <td>61</td>\n",
       "      <td>...</td>\n",
       "      <td>No</td>\n",
       "      <td>4</td>\n",
       "      <td>4</td>\n",
       "      <td>10</td>\n",
       "      <td>3</td>\n",
       "      <td>3</td>\n",
       "      <td>10</td>\n",
       "      <td>7</td>\n",
       "      <td>1</td>\n",
       "      <td>7</td>\n",
       "    </tr>\n",
       "    <tr>\n",
       "      <th>2</th>\n",
       "      <td>37.0</td>\n",
       "      <td>Yes</td>\n",
       "      <td>Travel_Rarely</td>\n",
       "      <td>Research &amp; Development</td>\n",
       "      <td>2</td>\n",
       "      <td>Other</td>\n",
       "      <td>4</td>\n",
       "      <td>4</td>\n",
       "      <td>Male</td>\n",
       "      <td>92</td>\n",
       "      <td>...</td>\n",
       "      <td>Yes</td>\n",
       "      <td>3</td>\n",
       "      <td>2</td>\n",
       "      <td>7</td>\n",
       "      <td>3</td>\n",
       "      <td>3</td>\n",
       "      <td>0</td>\n",
       "      <td>0</td>\n",
       "      <td>0</td>\n",
       "      <td>0</td>\n",
       "    </tr>\n",
       "    <tr>\n",
       "      <th>3</th>\n",
       "      <td>33.0</td>\n",
       "      <td>No</td>\n",
       "      <td>Travel_Frequently</td>\n",
       "      <td>Research &amp; Development</td>\n",
       "      <td>3</td>\n",
       "      <td>Life Sciences</td>\n",
       "      <td>5</td>\n",
       "      <td>4</td>\n",
       "      <td>Female</td>\n",
       "      <td>56</td>\n",
       "      <td>...</td>\n",
       "      <td>Yes</td>\n",
       "      <td>3</td>\n",
       "      <td>3</td>\n",
       "      <td>8</td>\n",
       "      <td>3</td>\n",
       "      <td>3</td>\n",
       "      <td>8</td>\n",
       "      <td>7</td>\n",
       "      <td>3</td>\n",
       "      <td>0</td>\n",
       "    </tr>\n",
       "    <tr>\n",
       "      <th>4</th>\n",
       "      <td>27.0</td>\n",
       "      <td>No</td>\n",
       "      <td>Travel_Rarely</td>\n",
       "      <td>Research &amp; Development</td>\n",
       "      <td>2</td>\n",
       "      <td>Medical</td>\n",
       "      <td>7</td>\n",
       "      <td>1</td>\n",
       "      <td>Male</td>\n",
       "      <td>40</td>\n",
       "      <td>...</td>\n",
       "      <td>No</td>\n",
       "      <td>3</td>\n",
       "      <td>4</td>\n",
       "      <td>6</td>\n",
       "      <td>3</td>\n",
       "      <td>3</td>\n",
       "      <td>2</td>\n",
       "      <td>2</td>\n",
       "      <td>2</td>\n",
       "      <td>2</td>\n",
       "    </tr>\n",
       "  </tbody>\n",
       "</table>\n",
       "<p>5 rows × 27 columns</p>\n",
       "</div>"
      ],
      "text/plain": [
       "    Age Attrition     BusinessTravel              Department  \\\n",
       "0  41.0       Yes      Travel_Rarely                   Sales   \n",
       "1  49.0        No  Travel_Frequently  Research & Development   \n",
       "2  37.0       Yes      Travel_Rarely  Research & Development   \n",
       "3  33.0        No  Travel_Frequently  Research & Development   \n",
       "4  27.0        No      Travel_Rarely  Research & Development   \n",
       "\n",
       "   DistanceFromHome EducationField  EmployeeNumber  EnvironmentSatisfaction  \\\n",
       "0                 1  Life Sciences               1                        2   \n",
       "1                 8  Life Sciences               2                        3   \n",
       "2                 2          Other               4                        4   \n",
       "3                 3  Life Sciences               5                        4   \n",
       "4                 2        Medical               7                        1   \n",
       "\n",
       "   Gender  HourlyRate  ...  OverTime PerformanceRating  \\\n",
       "0  Female          94  ...       Yes                 3   \n",
       "1    Male          61  ...        No                 4   \n",
       "2    Male          92  ...       Yes                 3   \n",
       "3  Female          56  ...       Yes                 3   \n",
       "4    Male          40  ...        No                 3   \n",
       "\n",
       "   RelationshipSatisfaction TotalWorkingYears  TrainingTimesLastYear  \\\n",
       "0                         1                 8                      0   \n",
       "1                         4                10                      3   \n",
       "2                         2                 7                      3   \n",
       "3                         3                 8                      3   \n",
       "4                         4                 6                      3   \n",
       "\n",
       "   WorkLifeBalance YearsAtCompany YearsInCurrentRole  YearsSinceLastPromotion  \\\n",
       "0                1              6                  4                        0   \n",
       "1                3             10                  7                        1   \n",
       "2                3              0                  0                        0   \n",
       "3                3              8                  7                        3   \n",
       "4                3              2                  2                        2   \n",
       "\n",
       "   YearsWithCurrManager  \n",
       "0                     5  \n",
       "1                     7  \n",
       "2                     0  \n",
       "3                     0  \n",
       "4                     2  \n",
       "\n",
       "[5 rows x 27 columns]"
      ]
     },
     "execution_count": 4,
     "metadata": {},
     "output_type": "execute_result"
    }
   ],
   "source": [
    "df.head()"
   ]
  },
  {
   "cell_type": "markdown",
   "metadata": {},
   "source": [
    "# Reading the bottom 5 rows"
   ]
  },
  {
   "cell_type": "code",
   "execution_count": 5,
   "metadata": {},
   "outputs": [
    {
     "data": {
      "text/html": [
       "<div>\n",
       "<style scoped>\n",
       "    .dataframe tbody tr th:only-of-type {\n",
       "        vertical-align: middle;\n",
       "    }\n",
       "\n",
       "    .dataframe tbody tr th {\n",
       "        vertical-align: top;\n",
       "    }\n",
       "\n",
       "    .dataframe thead th {\n",
       "        text-align: right;\n",
       "    }\n",
       "</style>\n",
       "<table border=\"1\" class=\"dataframe\">\n",
       "  <thead>\n",
       "    <tr style=\"text-align: right;\">\n",
       "      <th></th>\n",
       "      <th>Age</th>\n",
       "      <th>Attrition</th>\n",
       "      <th>BusinessTravel</th>\n",
       "      <th>Department</th>\n",
       "      <th>DistanceFromHome</th>\n",
       "      <th>EducationField</th>\n",
       "      <th>EmployeeNumber</th>\n",
       "      <th>EnvironmentSatisfaction</th>\n",
       "      <th>Gender</th>\n",
       "      <th>HourlyRate</th>\n",
       "      <th>...</th>\n",
       "      <th>OverTime</th>\n",
       "      <th>PerformanceRating</th>\n",
       "      <th>RelationshipSatisfaction</th>\n",
       "      <th>TotalWorkingYears</th>\n",
       "      <th>TrainingTimesLastYear</th>\n",
       "      <th>WorkLifeBalance</th>\n",
       "      <th>YearsAtCompany</th>\n",
       "      <th>YearsInCurrentRole</th>\n",
       "      <th>YearsSinceLastPromotion</th>\n",
       "      <th>YearsWithCurrManager</th>\n",
       "    </tr>\n",
       "  </thead>\n",
       "  <tbody>\n",
       "    <tr>\n",
       "      <th>1465</th>\n",
       "      <td>36.0</td>\n",
       "      <td>No</td>\n",
       "      <td>NaN</td>\n",
       "      <td>Research &amp; Development</td>\n",
       "      <td>23</td>\n",
       "      <td>Medical</td>\n",
       "      <td>2061</td>\n",
       "      <td>3</td>\n",
       "      <td>Male</td>\n",
       "      <td>41</td>\n",
       "      <td>...</td>\n",
       "      <td>No</td>\n",
       "      <td>3</td>\n",
       "      <td>3</td>\n",
       "      <td>17</td>\n",
       "      <td>3</td>\n",
       "      <td>3</td>\n",
       "      <td>5</td>\n",
       "      <td>2</td>\n",
       "      <td>0</td>\n",
       "      <td>3</td>\n",
       "    </tr>\n",
       "    <tr>\n",
       "      <th>1466</th>\n",
       "      <td>39.0</td>\n",
       "      <td>No</td>\n",
       "      <td>Travel_Rarely</td>\n",
       "      <td>Research &amp; Development</td>\n",
       "      <td>6</td>\n",
       "      <td>Medical</td>\n",
       "      <td>2062</td>\n",
       "      <td>4</td>\n",
       "      <td>Male</td>\n",
       "      <td>42</td>\n",
       "      <td>...</td>\n",
       "      <td>No</td>\n",
       "      <td>3</td>\n",
       "      <td>1</td>\n",
       "      <td>9</td>\n",
       "      <td>5</td>\n",
       "      <td>3</td>\n",
       "      <td>7</td>\n",
       "      <td>7</td>\n",
       "      <td>1</td>\n",
       "      <td>7</td>\n",
       "    </tr>\n",
       "    <tr>\n",
       "      <th>1467</th>\n",
       "      <td>27.0</td>\n",
       "      <td>No</td>\n",
       "      <td>Travel_Rarely</td>\n",
       "      <td>Research &amp; Development</td>\n",
       "      <td>4</td>\n",
       "      <td>Life Sciences</td>\n",
       "      <td>2064</td>\n",
       "      <td>2</td>\n",
       "      <td>Male</td>\n",
       "      <td>87</td>\n",
       "      <td>...</td>\n",
       "      <td>Yes</td>\n",
       "      <td>4</td>\n",
       "      <td>2</td>\n",
       "      <td>6</td>\n",
       "      <td>0</td>\n",
       "      <td>3</td>\n",
       "      <td>6</td>\n",
       "      <td>2</td>\n",
       "      <td>0</td>\n",
       "      <td>3</td>\n",
       "    </tr>\n",
       "    <tr>\n",
       "      <th>1468</th>\n",
       "      <td>49.0</td>\n",
       "      <td>No</td>\n",
       "      <td>Travel_Frequently</td>\n",
       "      <td>Sales</td>\n",
       "      <td>2</td>\n",
       "      <td>Medical</td>\n",
       "      <td>2065</td>\n",
       "      <td>4</td>\n",
       "      <td>Male</td>\n",
       "      <td>63</td>\n",
       "      <td>...</td>\n",
       "      <td>No</td>\n",
       "      <td>3</td>\n",
       "      <td>4</td>\n",
       "      <td>17</td>\n",
       "      <td>3</td>\n",
       "      <td>2</td>\n",
       "      <td>9</td>\n",
       "      <td>6</td>\n",
       "      <td>0</td>\n",
       "      <td>8</td>\n",
       "    </tr>\n",
       "    <tr>\n",
       "      <th>1469</th>\n",
       "      <td>34.0</td>\n",
       "      <td>No</td>\n",
       "      <td>Travel_Rarely</td>\n",
       "      <td>Research &amp; Development</td>\n",
       "      <td>8</td>\n",
       "      <td>Medical</td>\n",
       "      <td>2068</td>\n",
       "      <td>2</td>\n",
       "      <td>Male</td>\n",
       "      <td>82</td>\n",
       "      <td>...</td>\n",
       "      <td>No</td>\n",
       "      <td>3</td>\n",
       "      <td>1</td>\n",
       "      <td>6</td>\n",
       "      <td>3</td>\n",
       "      <td>4</td>\n",
       "      <td>4</td>\n",
       "      <td>3</td>\n",
       "      <td>1</td>\n",
       "      <td>2</td>\n",
       "    </tr>\n",
       "  </tbody>\n",
       "</table>\n",
       "<p>5 rows × 27 columns</p>\n",
       "</div>"
      ],
      "text/plain": [
       "       Age Attrition     BusinessTravel              Department  \\\n",
       "1465  36.0        No                NaN  Research & Development   \n",
       "1466  39.0        No      Travel_Rarely  Research & Development   \n",
       "1467  27.0        No      Travel_Rarely  Research & Development   \n",
       "1468  49.0        No  Travel_Frequently                   Sales   \n",
       "1469  34.0        No      Travel_Rarely  Research & Development   \n",
       "\n",
       "      DistanceFromHome EducationField  EmployeeNumber  \\\n",
       "1465                23        Medical            2061   \n",
       "1466                 6        Medical            2062   \n",
       "1467                 4  Life Sciences            2064   \n",
       "1468                 2        Medical            2065   \n",
       "1469                 8        Medical            2068   \n",
       "\n",
       "      EnvironmentSatisfaction Gender  HourlyRate  ...  OverTime  \\\n",
       "1465                        3   Male          41  ...        No   \n",
       "1466                        4   Male          42  ...        No   \n",
       "1467                        2   Male          87  ...       Yes   \n",
       "1468                        4   Male          63  ...        No   \n",
       "1469                        2   Male          82  ...        No   \n",
       "\n",
       "     PerformanceRating  RelationshipSatisfaction TotalWorkingYears  \\\n",
       "1465                 3                         3                17   \n",
       "1466                 3                         1                 9   \n",
       "1467                 4                         2                 6   \n",
       "1468                 3                         4                17   \n",
       "1469                 3                         1                 6   \n",
       "\n",
       "      TrainingTimesLastYear  WorkLifeBalance YearsAtCompany  \\\n",
       "1465                      3                3              5   \n",
       "1466                      5                3              7   \n",
       "1467                      0                3              6   \n",
       "1468                      3                2              9   \n",
       "1469                      3                4              4   \n",
       "\n",
       "     YearsInCurrentRole  YearsSinceLastPromotion  YearsWithCurrManager  \n",
       "1465                  2                        0                     3  \n",
       "1466                  7                        1                     7  \n",
       "1467                  2                        0                     3  \n",
       "1468                  6                        0                     8  \n",
       "1469                  3                        1                     2  \n",
       "\n",
       "[5 rows x 27 columns]"
      ]
     },
     "execution_count": 5,
     "metadata": {},
     "output_type": "execute_result"
    }
   ],
   "source": [
    "df.tail()"
   ]
  },
  {
   "cell_type": "markdown",
   "metadata": {},
   "source": [
    "#  Number of rows and columns "
   ]
  },
  {
   "cell_type": "code",
   "execution_count": 6,
   "metadata": {},
   "outputs": [
    {
     "name": "stdout",
     "output_type": "stream",
     "text": [
      "(1470, 27)\n"
     ]
    }
   ],
   "source": [
    "print(df.shape)"
   ]
  },
  {
   "cell_type": "markdown",
   "metadata": {},
   "source": [
    "# Display the names of all the columns"
   ]
  },
  {
   "cell_type": "code",
   "execution_count": 7,
   "metadata": {},
   "outputs": [
    {
     "data": {
      "text/plain": [
       "Index(['Age', 'Attrition', 'BusinessTravel', 'Department', 'DistanceFromHome',\n",
       "       'EducationField', 'EmployeeNumber', 'EnvironmentSatisfaction', 'Gender',\n",
       "       'HourlyRate', 'JobInvolvement', 'JobRole', 'JobSatisfaction',\n",
       "       'MaritalStatus', 'MonthlyIncome', 'NumCompaniesWorked', 'Over18',\n",
       "       'OverTime', 'PerformanceRating', 'RelationshipSatisfaction',\n",
       "       'TotalWorkingYears', 'TrainingTimesLastYear', 'WorkLifeBalance',\n",
       "       'YearsAtCompany', 'YearsInCurrentRole', 'YearsSinceLastPromotion',\n",
       "       'YearsWithCurrManager'],\n",
       "      dtype='object')"
      ]
     },
     "execution_count": 7,
     "metadata": {},
     "output_type": "execute_result"
    }
   ],
   "source": [
    "df.columns"
   ]
  },
  {
   "cell_type": "markdown",
   "metadata": {},
   "source": [
    "# Displaying the dataset information"
   ]
  },
  {
   "cell_type": "code",
   "execution_count": 8,
   "metadata": {},
   "outputs": [
    {
     "name": "stdout",
     "output_type": "stream",
     "text": [
      "<class 'pandas.core.frame.DataFrame'>\n",
      "RangeIndex: 1470 entries, 0 to 1469\n",
      "Data columns (total 27 columns):\n",
      " #   Column                    Non-Null Count  Dtype  \n",
      "---  ------                    --------------  -----  \n",
      " 0   Age                       1446 non-null   float64\n",
      " 1   Attrition                 1470 non-null   object \n",
      " 2   BusinessTravel            1440 non-null   object \n",
      " 3   Department                1466 non-null   object \n",
      " 4   DistanceFromHome          1470 non-null   int64  \n",
      " 5   EducationField            1458 non-null   object \n",
      " 6   EmployeeNumber            1470 non-null   int64  \n",
      " 7   EnvironmentSatisfaction   1470 non-null   int64  \n",
      " 8   Gender                    1425 non-null   object \n",
      " 9   HourlyRate                1470 non-null   int64  \n",
      " 10  JobInvolvement            1470 non-null   int64  \n",
      " 11  JobRole                   1460 non-null   object \n",
      " 12  JobSatisfaction           1470 non-null   int64  \n",
      " 13  MaritalStatus             1414 non-null   object \n",
      " 14  MonthlyIncome             1470 non-null   int64  \n",
      " 15  NumCompaniesWorked        1470 non-null   int64  \n",
      " 16  Over18                    1416 non-null   object \n",
      " 17  OverTime                  1470 non-null   object \n",
      " 18  PerformanceRating         1470 non-null   int64  \n",
      " 19  RelationshipSatisfaction  1470 non-null   int64  \n",
      " 20  TotalWorkingYears         1470 non-null   int64  \n",
      " 21  TrainingTimesLastYear     1470 non-null   int64  \n",
      " 22  WorkLifeBalance           1470 non-null   int64  \n",
      " 23  YearsAtCompany            1470 non-null   int64  \n",
      " 24  YearsInCurrentRole        1470 non-null   int64  \n",
      " 25  YearsSinceLastPromotion   1470 non-null   int64  \n",
      " 26  YearsWithCurrManager      1470 non-null   int64  \n",
      "dtypes: float64(1), int64(17), object(9)\n",
      "memory usage: 310.2+ KB\n"
     ]
    }
   ],
   "source": [
    "df.info()"
   ]
  },
  {
   "cell_type": "markdown",
   "metadata": {},
   "source": [
    "# Checking if there are null values in any columns"
   ]
  },
  {
   "cell_type": "code",
   "execution_count": 9,
   "metadata": {},
   "outputs": [
    {
     "data": {
      "text/plain": [
       "Age                         24\n",
       "Attrition                    0\n",
       "BusinessTravel              30\n",
       "Department                   4\n",
       "DistanceFromHome             0\n",
       "EducationField              12\n",
       "EmployeeNumber               0\n",
       "EnvironmentSatisfaction      0\n",
       "Gender                      45\n",
       "HourlyRate                   0\n",
       "JobInvolvement               0\n",
       "JobRole                     10\n",
       "JobSatisfaction              0\n",
       "MaritalStatus               56\n",
       "MonthlyIncome                0\n",
       "NumCompaniesWorked           0\n",
       "Over18                      54\n",
       "OverTime                     0\n",
       "PerformanceRating            0\n",
       "RelationshipSatisfaction     0\n",
       "TotalWorkingYears            0\n",
       "TrainingTimesLastYear        0\n",
       "WorkLifeBalance              0\n",
       "YearsAtCompany               0\n",
       "YearsInCurrentRole           0\n",
       "YearsSinceLastPromotion      0\n",
       "YearsWithCurrManager         0\n",
       "dtype: int64"
      ]
     },
     "execution_count": 9,
     "metadata": {},
     "output_type": "execute_result"
    }
   ],
   "source": [
    "df.isnull().sum()"
   ]
  },
  {
   "cell_type": "markdown",
   "metadata": {},
   "source": [
    "LEVEL 1 Analysis \n",
    "-------------------------\n",
    "Identify the type of data in each column (categorical or numerical)?\n",
    "1. Seperate out the categorical columns from the numerical types\n",
    "\n",
    "### These are the kinds of analysis that can be performed on categorical data\n",
    "1. Check if the variable is Nominal or Ordinal.\n",
    "2. Check how many categories are present.\n",
    "3. Check the Mode.\n",
    "4. Check for Missing values.\n",
    "5. Think about how the missing values could be treated?\n",
    "6. What kind of graph/chart can be plotted using this data?\n",
    "\n",
    "Note: We are analyzing only one column at a time (Univariate Analysis)"
   ]
  },
  {
   "cell_type": "markdown",
   "metadata": {},
   "source": [
    "# Separating Categorical and Numerical Variables"
   ]
  },
  {
   "cell_type": "code",
   "execution_count": 10,
   "metadata": {},
   "outputs": [
    {
     "name": "stdout",
     "output_type": "stream",
     "text": [
      "categorical               continuous\n",
      "------------------------  -----------------\n",
      "Attrition                 Age\n",
      "BusinessTravel            DistanceFromHome\n",
      "Department                EmployeeNumber\n",
      "EducationField            HourlyRate\n",
      "EnvironmentSatisfaction   MonthlyIncome\n",
      "Gender                    TotalWorkingYears\n",
      "JobInvolvement            YearsAtCompany\n",
      "JobRole\n",
      "JobSatisfaction\n",
      "MaritalStatus\n",
      "NumCompaniesWorked\n",
      "Over18\n",
      "OverTime\n",
      "PerformanceRating\n",
      "RelationshipSatisfaction\n",
      "TrainingTimesLastYear\n",
      "WorkLifeBalance\n",
      "YearsInCurrentRole\n",
      "YearsSinceLastPromotion\n",
      "YearsWithCurrManager\n"
     ]
    }
   ],
   "source": [
    "# Separating out the categorical and continuous variables\n",
    "def seprate_data_types(df):\n",
    "    categorical = []\n",
    "    continuous = []\n",
    "    for column in df.columns:                # looping on the number of columns\n",
    "        if df[column].nunique() < 20:       # nunique:  returns unique values in the column,\n",
    "                                                    #here 20 is the hyperparamter and can be changed\n",
    "            categorical.append(column)\n",
    "        else:\n",
    "            continuous.append(column)\n",
    "            \n",
    "    return categorical, continuous \n",
    "\n",
    "\n",
    "categorical, continuous = seprate_data_types(df)         # Calling the function\n",
    "\n",
    "# # Tabulate is a package used to print the list, dict or any data sets in a proper format; in table format\n",
    "from tabulate import tabulate\n",
    "table = [categorical, continuous]\n",
    "print(tabulate({\"Categorical\":categorical,\n",
    "                \"continuous\": continuous}, headers = [\"categorical\", \"continuous\"]))"
   ]
  },
  {
   "cell_type": "markdown",
   "metadata": {},
   "source": [
    "\n",
    "# $$\\;\\;\\;\\; Univariate \\ Analysis \\ of \\ Categorical \\ Variables$$"
   ]
  },
  {
   "cell_type": "markdown",
   "metadata": {},
   "source": [
    "## Level 1 Analysis (Univariate Analysis)"
   ]
  },
  {
   "cell_type": "markdown",
   "metadata": {},
   "source": [
    "### User defined functions for level 1 analysis of categorical columns\n",
    "This function will check for the following: \\\n",
    "Unique values \\\n",
    "Mode \\\n",
    "Sum of all the null values \\\n",
    "Total count of missing values "
   ]
  },
  {
   "cell_type": "code",
   "execution_count": 11,
   "metadata": {},
   "outputs": [],
   "source": [
    "def info_of_cat(col): \n",
    "    print(f\"Unique values in {col} are: {df[col].unique()}\") # unique: returns the unique values in the col\n",
    "    print(f\"Mode of {col} is {df[col].mode()[0]}\")  # mode: returns the mode of the column\n",
    "    print(f\"Number of missing values in {col} is {df[col].isnull().sum()}\") # isnull().sum() counts the number of null in dataframe\n",
    "    if df[col].isnull().sum() > 0:  # check if null values are present\n",
    "        print(f\"\\nThere are null values in the {col} column\")"
   ]
  },
  {
   "cell_type": "markdown",
   "metadata": {},
   "source": [
    "# 1. Analysis of Attrition : If the account is closed (Attired Customer) else (Existing Customer) \n",
    "LEVEL 1 Analysis of Categorical Data (Univariate Analysis) "
   ]
  },
  {
   "cell_type": "code",
   "execution_count": 12,
   "metadata": {},
   "outputs": [
    {
     "name": "stdout",
     "output_type": "stream",
     "text": [
      "Unique values in Attrition are: ['Yes' 'No']\n",
      "Mode of Attrition is No\n",
      "Number of missing values in Attrition is 0\n"
     ]
    }
   ],
   "source": [
    "info_of_cat(\"Attrition\")"
   ]
  },
  {
   "cell_type": "code",
   "execution_count": 32,
   "metadata": {},
   "outputs": [
    {
     "data": {
      "image/png": "[encoded data removed]",
      "text/plain": [
       "<Figure size 1080x504 with 2 Axes>"
      ]
     },
     "metadata": {
      "needs_background": "light"
     },
     "output_type": "display_data"
    }
   ],
   "source": [
    "fig, ax = plt.subplots(1, 2, figsize = (15, 7))\n",
    "ax[0].set_title(\"Count of Attrition\")                  # Set the title of the graph\n",
    "percentage = df[\"Attrition\"].value_counts()         # value_counts: returns the count of values in series: return series\n",
    "labels = list(df[\"Attrition\"].value_counts().index) # Converting the index of value counts into list\n",
    "\n",
    "sns.countplot(x = df[\"Attrition\"], ax = ax[0])\n",
    "plt.pie(percentage,labels = labels, autopct= \"%0.2f%%\")  # autopct: to print the percentage on pie wedge. 2 decimal points used \n",
    "\n",
    "plt.show()"
   ]
  },
  {
   "cell_type": "markdown",
   "metadata": {},
   "source": [
    "## Interpretation: Dataset indicates that 16% of the customers left the IBM company while 84% of the customers are still with it."
   ]
  },
  {
   "cell_type": "markdown",
   "metadata": {},
   "source": [
    "# 2. Analysis of  Gender column: Gender of a person (Male or Female)\n",
    "LEVEL 1 Analysis of Categorical Data (Univariate Analysis) "
   ]
  },
  {
   "cell_type": "code",
   "execution_count": 34,
   "metadata": {},
   "outputs": [
    {
     "name": "stdout",
     "output_type": "stream",
     "text": [
      "Unique values in Gender are: ['Female' 'Male' nan]\n",
      "Mode of Gender is Male\n",
      "Number of missing values in Gender is 45\n",
      "\n",
      "There are null values in the Gender column\n"
     ]
    }
   ],
   "source": [
    "info_of_cat(\"Gender\")"
   ]
  },
  {
   "cell_type": "markdown",
   "metadata": {},
   "source": [
    "##    Way to fill: Mode of the Gender Column\n",
    "\n",
    "Note: Mode is not a perfect way to way to fill the missing value in this case. One might need to handle such a situation with caution. This is for demonstration purposes only. "
   ]
  },
  {
   "cell_type": "code",
   "execution_count": 41,
   "metadata": {},
   "outputs": [
    {
     "name": "stdout",
     "output_type": "stream",
     "text": [
      "Male\n"
     ]
    }
   ],
   "source": [
    "gender_mode= df.Gender.mode()[0]\n",
    "print(gender_mode)\n",
    "df[\"Gender\"].fillna(gender_mode,inplace=True)"
   ]
  },
  {
   "cell_type": "code",
   "execution_count": 48,
   "metadata": {},
   "outputs": [
    {
     "data": {
      "image/png": "[encoded data removed]",
      "text/plain": [
       "<Figure size 1080x504 with 2 Axes>"
      ]
     },
     "metadata": {
      "needs_background": "light"
     },
     "output_type": "display_data"
    }
   ],
   "source": [
    "fig, ax = plt.subplots(1, 2, figsize = (15, 7))\n",
    "data = df[\"Gender\"].value_counts()                                  # Value count is an inbuilt function to calculate the number of classes                                                                       #in gender columns\n",
    "labels =data.keys()  #data keys provide the index names but this function provides the columns \n",
    "                                                                     #names if called on dataframe\n",
    "sns.countplot(x = df[\"Gender\"], ax = ax[0])\n",
    "plt.pie(x = data, autopct = \"%.1f%%\", explode = [0.02, 0.0], labels = labels, pctdistance = 0.5) # pctdistance is the distance between the percentage\n",
    "                                                                     # on pie chart from center.\n",
    "                                                                     #  explode is to split the slices by the distance provided\n",
    "                                                                     # autopct: is used to print the number on pie slices.  \n",
    "\n",
    "plt.show()"
   ]
  },
  {
   "cell_type": "markdown",
   "metadata": {},
   "source": [
    "## Interpretation: Males customers are more in number, contributing to 61%."
   ]
  },
  {
   "cell_type": "markdown",
   "metadata": {},
   "source": [
    "# 3. Analysis of JobSatisfaction  column: Rating of a person (Scale of 1-5)\n",
    "LEVEL 1 Analysis of Categorical Data (Univariate Analysis) "
   ]
  },
  {
   "cell_type": "code",
   "execution_count": 51,
   "metadata": {},
   "outputs": [
    {
     "name": "stdout",
     "output_type": "stream",
     "text": [
      "Unique values in JobSatisfaction are: [4 2 3 1]\n",
      "Mode of JobSatisfaction is 4\n",
      "Number of missing values in JobSatisfaction is 0\n"
     ]
    }
   ],
   "source": [
    "info_of_cat(\"JobSatisfaction\")"
   ]
  },
  {
   "cell_type": "code",
   "execution_count": 56,
   "metadata": {},
   "outputs": [
    {
     "data": {
      "image/png": "[encoded data removed]",
      "text/plain": [
       "<Figure size 1080x504 with 2 Axes>"
      ]
     },
     "metadata": {
      "needs_background": "light"
     },
     "output_type": "display_data"
    }
   ],
   "source": [
    "fig, ax = plt.subplots(1, 2, figsize = (15, 7))\n",
    "ax[0].set_title(\"JobSatisfaction Level\")                  # Set the title of the graph\n",
    "percentage = df[\"JobSatisfaction\"].value_counts()         # value_counts: returns the count of values in series: return series\n",
    "labels = list(df[\"JobSatisfaction\"].value_counts().index) # Converting the index of value counts into list\n",
    "\n",
    "sns.countplot(x = df[\"JobSatisfaction\"], ax = ax[0])\n",
    "plt.pie(percentage,labels = labels, autopct= \"%0.2f%%\")  # autopct: to print the percentage on pie wedge. 2 decimal points used \n",
    "\n",
    "plt.show()"
   ]
  },
  {
   "cell_type": "markdown",
   "metadata": {},
   "source": [
    "## Interpretation: The Job Satisfaction Level of the employess ranges from 1-4, where 31% of the employees are the most satisfied and 19.66% are the least satisfied employess."
   ]
  },
  {
   "cell_type": "code",
   "execution_count": 58,
   "metadata": {},
   "outputs": [
    {
     "data": {
      "text/plain": [
       "Index(['Age', 'Attrition', 'BusinessTravel', 'Department', 'DistanceFromHome',\n",
       "       'EducationField', 'EmployeeNumber', 'EnvironmentSatisfaction', 'Gender',\n",
       "       'HourlyRate', 'JobInvolvement', 'JobRole', 'JobSatisfaction',\n",
       "       'MaritalStatus', 'MonthlyIncome', 'NumCompaniesWorked', 'Over18',\n",
       "       'OverTime', 'PerformanceRating', 'RelationshipSatisfaction',\n",
       "       'TotalWorkingYears', 'TrainingTimesLastYear', 'WorkLifeBalance',\n",
       "       'YearsAtCompany', 'YearsInCurrentRole', 'YearsSinceLastPromotion',\n",
       "       'YearsWithCurrManager'],\n",
       "      dtype='object')"
      ]
     },
     "execution_count": 58,
     "metadata": {},
     "output_type": "execute_result"
    }
   ],
   "source": [
    "df.columns"
   ]
  },
  {
   "cell_type": "markdown",
   "metadata": {},
   "source": [
    "# 4. Analysis of PerformanceRating column: Rating of a person (Scale of 1-5)\n",
    "LEVEL 1 Analysis of Categorical Data (Univariate Analysis) "
   ]
  },
  {
   "cell_type": "code",
   "execution_count": 59,
   "metadata": {},
   "outputs": [
    {
     "name": "stdout",
     "output_type": "stream",
     "text": [
      "Unique values in PerformanceRating are: [3 4]\n",
      "Mode of PerformanceRating is 3\n",
      "Number of missing values in PerformanceRating is 0\n"
     ]
    }
   ],
   "source": [
    "info_of_cat(\"PerformanceRating\")"
   ]
  },
  {
   "cell_type": "code",
   "execution_count": 60,
   "metadata": {},
   "outputs": [
    {
     "data": {
      "image/png": "[encoded data removed]",
      "text/plain": [
       "<Figure size 1080x504 with 2 Axes>"
      ]
     },
     "metadata": {
      "needs_background": "light"
     },
     "output_type": "display_data"
    }
   ],
   "source": [
    "fig, ax = plt.subplots(1, 2, figsize = (15, 7))\n",
    "ax[0].set_title(\"PerformanceRating Level\")                  # Set the title of the graph\n",
    "percentage = df[\"PerformanceRating\"].value_counts()         # value_counts: returns the count of values in series: return series\n",
    "labels = list(df[\"PerformanceRating\"].value_counts().index) # Converting the index of value counts into list\n",
    "\n",
    "sns.countplot(x = df[\"PerformanceRating\"], ax = ax[0])\n",
    "plt.pie(percentage,labels = labels, autopct= \"%0.2f%%\")  # autopct: to print the percentage on pie wedge. 2 decimal points used \n",
    "\n",
    "plt.show()"
   ]
  },
  {
   "cell_type": "markdown",
   "metadata": {},
   "source": [
    "## Interpretation: The PerformanceRating Level of the employess ranges from 1-4, where 85% of the employees got performance rating 3 and 57.37% arof the employees got performance rating as 4."
   ]
  },
  {
   "cell_type": "markdown",
   "metadata": {},
   "source": [
    "# 5. Analysis of RelationshipSatisfaction column: Rating of a person (Scale of 1-5)\n",
    "LEVEL 1 Analysis of Categorical Data (Univariate Analysis) "
   ]
  },
  {
   "cell_type": "code",
   "execution_count": 62,
   "metadata": {},
   "outputs": [
    {
     "name": "stdout",
     "output_type": "stream",
     "text": [
      "Unique values in RelationshipSatisfaction are: [1 4 2 3]\n",
      "Mode of RelationshipSatisfaction is 3\n",
      "Number of missing values in RelationshipSatisfaction is 0\n"
     ]
    }
   ],
   "source": [
    "info_of_cat(\"RelationshipSatisfaction\")"
   ]
  },
  {
   "cell_type": "code",
   "execution_count": 64,
   "metadata": {},
   "outputs": [
    {
     "data": {
      "image/png": "[encoded data removed]",
      "text/plain": [
       "<Figure size 1080x504 with 2 Axes>"
      ]
     },
     "metadata": {
      "needs_background": "light"
     },
     "output_type": "display_data"
    }
   ],
   "source": [
    "fig, ax = plt.subplots(1, 2, figsize = (15, 7))\n",
    "ax[0].set_title(\"RelationshipSatisfaction Level\")                  # Set the title of the graph\n",
    "percentage = df[\"RelationshipSatisfaction\"].value_counts()         # value_counts: returns the count of values in series: return series\n",
    "labels = list(df[\"RelationshipSatisfaction\"].value_counts().index) # Converting the index of value counts into list\n",
    "\n",
    "sns.countplot(x = df[\"RelationshipSatisfaction\"], ax = ax[0])\n",
    "plt.pie(percentage,labels = labels, autopct= \"%0.2f%%\")  # autopct: to print the percentage on pie wedge. 2 decimal points used \n",
    "\n",
    "plt.show()"
   ]
  },
  {
   "cell_type": "markdown",
   "metadata": {},
   "source": [
    "## Interpretation: The RelationshipSatisfaction Level of the employess ranges from 1-4, where 31.22% of the employees got relationship with their Manager is reated as \"3\" which is the highest 18.78% of the employees relationship with their Manager is 18.78% which is the lowest."
   ]
  },
  {
   "cell_type": "markdown",
   "metadata": {},
   "source": [
    "# 6. Analysis of WorkLifeBalance column: Rating of a person (Scale of 1-5)\n",
    "LEVEL 1 Analysis of Categorical Data (Univariate Analysis) "
   ]
  },
  {
   "cell_type": "code",
   "execution_count": 65,
   "metadata": {},
   "outputs": [
    {
     "name": "stdout",
     "output_type": "stream",
     "text": [
      "Unique values in WorkLifeBalance are: [1 3 2 4]\n",
      "Mode of WorkLifeBalance is 3\n",
      "Number of missing values in WorkLifeBalance is 0\n"
     ]
    }
   ],
   "source": [
    "info_of_cat(\"WorkLifeBalance\")"
   ]
  },
  {
   "cell_type": "code",
   "execution_count": 66,
   "metadata": {},
   "outputs": [
    {
     "data": {
      "image/png": "[encoded data removed]",
      "text/plain": [
       "<Figure size 1080x504 with 2 Axes>"
      ]
     },
     "metadata": {
      "needs_background": "light"
     },
     "output_type": "display_data"
    }
   ],
   "source": [
    "fig, ax = plt.subplots(1, 2, figsize = (15, 7))\n",
    "ax[0].set_title(\"WorkLifeBalance Level\")                  # Set the title of the graph\n",
    "percentage = df[\"WorkLifeBalance\"].value_counts()         # value_counts: returns the count of values in series: return series\n",
    "labels = list(df[\"WorkLifeBalance\"].value_counts().index) # Converting the index of value counts into list\n",
    "\n",
    "sns.countplot(x = df[\"WorkLifeBalance\"], ax = ax[0])\n",
    "plt.pie(percentage,labels = labels, autopct= \"%0.2f%%\")  # autopct: to print the percentage on pie wedge. 2 decimal points used \n",
    "\n",
    "plt.show()"
   ]
  },
  {
   "cell_type": "markdown",
   "metadata": {},
   "source": [
    "## Interpretation: The WorkLifeBalance Level of the employess ranges from 1-4, where 60.75% of the employees rated their worklifebalace as 3 which is the highest and 5.44% of the employees rated their work life balance as 1 which is the lowest."
   ]
  }
 ],
 "metadata": {
  "interpreter": {
   "hash": "b3ba2566441a7c06988d0923437866b63cedc61552a5af99d1f4fb67d367b25f"
  },
  "kernelspec": {
   "display_name": "Python 3.9.7 ('base')",
   "language": "python",
   "name": "python3"
  },
  "language_info": {
   "codemirror_mode": {
    "name": "ipython",
    "version": 3
   },
   "file_extension": ".py",
   "mimetype": "text/x-python",
   "name": "python",
   "nbconvert_exporter": "python",
   "pygments_lexer": "ipython3",
   "version": "3.9.7"
  },
  "orig_nbformat": 4
 },
 "nbformat": 4,
 "nbformat_minor": 2
}
